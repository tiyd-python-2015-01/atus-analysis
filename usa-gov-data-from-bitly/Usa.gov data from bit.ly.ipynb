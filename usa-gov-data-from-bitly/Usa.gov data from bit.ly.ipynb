{
 "metadata": {
  "name": "",
  "signature": "sha256:2020d99b8c01a0182058566814a859b3b82d686392158cd7dd672dd8f84bd339"
 },
 "nbformat": 3,
 "nbformat_minor": 0,
 "worksheets": [
  {
   "cells": [
    {
     "cell_type": "markdown",
     "metadata": {},
     "source": [
      "In 2011, URL shortening service bit.ly partnered with the United States government website usa.gov to provide a feed of anonymous data gathered from users who shorten links ending with .gov or .mil. As of this writing, in addition to providing a live feed, hourly snapshots are available as downloadable text files.\n"
     ]
    },
    {
     "cell_type": "markdown",
     "metadata": {},
     "source": [
      "Let's take a look at the most often-occurring time zones in the data set (the tz field)."
     ]
    },
    {
     "cell_type": "code",
     "collapsed": false,
     "input": [
      "import json\n",
      "import pandas as pd\n",
      "import seaborn as sb\n",
      "import matplotlib.pyplot as plt\n",
      "pd.set_option('display.mpl_style', 'default') \n",
      "pd.set_option('display.width', 5000) \n",
      "pd.set_option('display.max_columns', 60)\n",
      "pd.options.display.mpl_style = 'default'\n",
      "%matplotlib inline\n",
      "\n",
      "#data found here: http://1usagov.measuredvoice.com/2013/"
     ],
     "language": "python",
     "metadata": {},
     "outputs": [],
     "prompt_number": 366
    },
    {
     "cell_type": "code",
     "collapsed": false,
     "input": [
      "path = 'usagov_bitly_data2013-03-26-1364304393'"
     ],
     "language": "python",
     "metadata": {},
     "outputs": [],
     "prompt_number": 367
    },
    {
     "cell_type": "code",
     "collapsed": false,
     "input": [
      "records = [json.loads(line) for line in open(path)]"
     ],
     "language": "python",
     "metadata": {},
     "outputs": [],
     "prompt_number": 368
    },
    {
     "cell_type": "code",
     "collapsed": false,
     "input": [
      "records[31]['tz']"
     ],
     "language": "python",
     "metadata": {},
     "outputs": [
      {
       "metadata": {},
       "output_type": "pyout",
       "prompt_number": 369,
       "text": [
        "'America/New_York'"
       ]
      }
     ],
     "prompt_number": 369
    },
    {
     "cell_type": "code",
     "collapsed": false,
     "input": [
      "timezones = [rec['tz'] for rec in records if 'tz' in rec]"
     ],
     "language": "python",
     "metadata": {},
     "outputs": [],
     "prompt_number": 370
    },
    {
     "cell_type": "code",
     "collapsed": false,
     "input": [
      "timezones[:10]"
     ],
     "language": "python",
     "metadata": {},
     "outputs": [
      {
       "metadata": {},
       "output_type": "pyout",
       "prompt_number": 371,
       "text": [
        "['',\n",
        " 'America/New_York',\n",
        " 'America/New_York',\n",
        " 'America/New_York',\n",
        " 'America/New_York',\n",
        " 'Europe/Berlin',\n",
        " 'America/Denver',\n",
        " '',\n",
        " 'America/Los_Angeles',\n",
        " 'America/New_York']"
       ]
      }
     ],
     "prompt_number": 371
    },
    {
     "cell_type": "heading",
     "level": 2,
     "metadata": {},
     "source": [
      "Counting Top Time Zones in Pure Python"
     ]
    },
    {
     "cell_type": "code",
     "collapsed": false,
     "input": [
      "from collections import defaultdict"
     ],
     "language": "python",
     "metadata": {},
     "outputs": [],
     "prompt_number": 372
    },
    {
     "cell_type": "code",
     "collapsed": false,
     "input": [
      "def getcounts(seq):\n",
      "    counts = defaultdict(int) #values initialize to 0\n",
      "    for x in seq:\n",
      "        counts[x] += 1\n",
      "    return counts"
     ],
     "language": "python",
     "metadata": {},
     "outputs": [],
     "prompt_number": 373
    },
    {
     "cell_type": "code",
     "collapsed": false,
     "input": [
      "counts = getcounts(timezones)"
     ],
     "language": "python",
     "metadata": {},
     "outputs": [],
     "prompt_number": 374
    },
    {
     "cell_type": "code",
     "collapsed": false,
     "input": [
      "counts['America/New_York']"
     ],
     "language": "python",
     "metadata": {},
     "outputs": [
      {
       "metadata": {},
       "output_type": "pyout",
       "prompt_number": 375,
       "text": [
        "2007"
       ]
      }
     ],
     "prompt_number": 375
    },
    {
     "cell_type": "code",
     "collapsed": false,
     "input": [
      "len(timezones)"
     ],
     "language": "python",
     "metadata": {},
     "outputs": [
      {
       "metadata": {},
       "output_type": "pyout",
       "prompt_number": 376,
       "text": [
        "7476"
       ]
      }
     ],
     "prompt_number": 376
    },
    {
     "cell_type": "code",
     "collapsed": false,
     "input": [
      "def top_counts(count_dict, n=10):\n",
      "    value_key_pairs = [(count, tz) for tz, count in count_dict.items()]\n",
      "    value_key_pairs.sort()\n",
      "    return value_key_pairs[-n:]"
     ],
     "language": "python",
     "metadata": {},
     "outputs": [],
     "prompt_number": 377
    },
    {
     "cell_type": "code",
     "collapsed": false,
     "input": [
      "top_counts(counts)"
     ],
     "language": "python",
     "metadata": {},
     "outputs": [
      {
       "metadata": {},
       "output_type": "pyout",
       "prompt_number": 378,
       "text": [
        "[(101, 'Europe/Rome'),\n",
        " (108, 'Europe/Berlin'),\n",
        " (110, 'Asia/Tokyo'),\n",
        " (117, 'America/Rainy_River'),\n",
        " (173, 'America/Denver'),\n",
        " (310, 'Europe/London'),\n",
        " (412, 'America/Los_Angeles'),\n",
        " (903, 'America/Chicago'),\n",
        " (1324, ''),\n",
        " (2007, 'America/New_York')]"
       ]
      }
     ],
     "prompt_number": 378
    },
    {
     "cell_type": "code",
     "collapsed": false,
     "input": [
      "from collections import Counter"
     ],
     "language": "python",
     "metadata": {},
     "outputs": [],
     "prompt_number": 379
    },
    {
     "cell_type": "code",
     "collapsed": false,
     "input": [
      "counts = Counter(timezones)"
     ],
     "language": "python",
     "metadata": {},
     "outputs": [],
     "prompt_number": 380
    },
    {
     "cell_type": "code",
     "collapsed": false,
     "input": [
      "counts.most_common(20)"
     ],
     "language": "python",
     "metadata": {},
     "outputs": [
      {
       "metadata": {},
       "output_type": "pyout",
       "prompt_number": 381,
       "text": [
        "[('America/New_York', 2007),\n",
        " ('', 1324),\n",
        " ('America/Chicago', 903),\n",
        " ('America/Los_Angeles', 412),\n",
        " ('Europe/London', 310),\n",
        " ('America/Denver', 173),\n",
        " ('America/Rainy_River', 117),\n",
        " ('Asia/Tokyo', 110),\n",
        " ('Europe/Berlin', 108),\n",
        " ('Europe/Rome', 101),\n",
        " ('America/Sao_Paulo', 95),\n",
        " ('Europe/Madrid', 93),\n",
        " ('Asia/Calcutta', 92),\n",
        " ('America/Mexico_City', 78),\n",
        " ('America/Phoenix', 69),\n",
        " ('America/Indianapolis', 63),\n",
        " ('America/Montreal', 60),\n",
        " ('Asia/Hong_Kong', 57),\n",
        " ('Europe/Paris', 57),\n",
        " ('Europe/Warsaw', 43)]"
       ]
      }
     ],
     "prompt_number": 381
    },
    {
     "cell_type": "heading",
     "level": 2,
     "metadata": {},
     "source": [
      "Now doing the same, but making it easy with Pandas"
     ]
    },
    {
     "cell_type": "code",
     "collapsed": true,
     "input": [
      "from pandas import DataFrame, Series"
     ],
     "language": "python",
     "metadata": {},
     "outputs": [],
     "prompt_number": 382
    },
    {
     "cell_type": "code",
     "collapsed": false,
     "input": [
      "df = DataFrame(records)"
     ],
     "language": "python",
     "metadata": {},
     "outputs": [],
     "prompt_number": 383
    },
    {
     "cell_type": "code",
     "collapsed": false,
     "input": [
      "df.head()"
     ],
     "language": "python",
     "metadata": {},
     "outputs": [
      {
       "html": [
        "<div style=\"max-height:1000px;max-width:1500px;overflow:auto;\">\n",
        "<table border=\"1\" class=\"dataframe\">\n",
        "  <thead>\n",
        "    <tr style=\"text-align: right;\">\n",
        "      <th></th>\n",
        "      <th>_heartbeat_</th>\n",
        "      <th>a</th>\n",
        "      <th>al</th>\n",
        "      <th>c</th>\n",
        "      <th>cy</th>\n",
        "      <th>g</th>\n",
        "      <th>gr</th>\n",
        "      <th>h</th>\n",
        "      <th>hc</th>\n",
        "      <th>hh</th>\n",
        "      <th>kw</th>\n",
        "      <th>l</th>\n",
        "      <th>ll</th>\n",
        "      <th>nk</th>\n",
        "      <th>r</th>\n",
        "      <th>t</th>\n",
        "      <th>tz</th>\n",
        "      <th>u</th>\n",
        "    </tr>\n",
        "  </thead>\n",
        "  <tbody>\n",
        "    <tr>\n",
        "      <th>0</th>\n",
        "      <td>NaN</td>\n",
        "      <td> Mozilla/5.0 (Linux; U; Android 4.1.2; en-us; S...</td>\n",
        "      <td>          en-US</td>\n",
        "      <td> None</td>\n",
        "      <td>          NaN</td>\n",
        "      <td>  X9Coe1</td>\n",
        "      <td> NaN</td>\n",
        "      <td>  X9Coe0</td>\n",
        "      <td> 1364304199</td>\n",
        "      <td>      j.mp</td>\n",
        "      <td> NaN</td>\n",
        "      <td> speakerboehner</td>\n",
        "      <td>                     NaN</td>\n",
        "      <td> 0</td>\n",
        "      <td> http://t.co/DzSfokut7R</td>\n",
        "      <td> 1364304391</td>\n",
        "      <td>                 </td>\n",
        "      <td> http://www.speaker.gov/general/top-10-excuses-...</td>\n",
        "    </tr>\n",
        "    <tr>\n",
        "      <th>1</th>\n",
        "      <td>NaN</td>\n",
        "      <td> Mozilla/5.0 (Windows NT 6.1; WOW64) AppleWebKi...</td>\n",
        "      <td> en-US,en;q=0.8</td>\n",
        "      <td>   US</td>\n",
        "      <td>   Washington</td>\n",
        "      <td>  X9Coe1</td>\n",
        "      <td>  DC</td>\n",
        "      <td>  X9Coe0</td>\n",
        "      <td> 1364304199</td>\n",
        "      <td>      j.mp</td>\n",
        "      <td> NaN</td>\n",
        "      <td> speakerboehner</td>\n",
        "      <td>     [38.8951, -77.0364]</td>\n",
        "      <td> 1</td>\n",
        "      <td> http://t.co/DzSfokut7R</td>\n",
        "      <td> 1364304392</td>\n",
        "      <td> America/New_York</td>\n",
        "      <td> http://www.speaker.gov/general/top-10-excuses-...</td>\n",
        "    </tr>\n",
        "    <tr>\n",
        "      <th>2</th>\n",
        "      <td>NaN</td>\n",
        "      <td> Mozilla/5.0 (iPod; CPU iPhone OS 6_1 like Mac ...</td>\n",
        "      <td>          en-us</td>\n",
        "      <td>   US</td>\n",
        "      <td>       Selden</td>\n",
        "      <td> 102GktN</td>\n",
        "      <td>  NY</td>\n",
        "      <td> 10JOxFv</td>\n",
        "      <td> 1364300341</td>\n",
        "      <td> 1.usa.gov</td>\n",
        "      <td> NaN</td>\n",
        "      <td>       daweiner</td>\n",
        "      <td> [40.871399, -73.042503]</td>\n",
        "      <td> 0</td>\n",
        "      <td>                 direct</td>\n",
        "      <td> 1364304391</td>\n",
        "      <td> America/New_York</td>\n",
        "      <td> http://www.fbi.gov/news/stories/2013/march/ufo...</td>\n",
        "    </tr>\n",
        "    <tr>\n",
        "      <th>3</th>\n",
        "      <td>NaN</td>\n",
        "      <td> Mozilla/5.0 (Windows NT 6.1; WOW64) AppleWebKi...</td>\n",
        "      <td> en-US,en;q=0.8</td>\n",
        "      <td>   US</td>\n",
        "      <td>     Brooklyn</td>\n",
        "      <td>  X9Coe1</td>\n",
        "      <td>  NY</td>\n",
        "      <td>  X9Coe0</td>\n",
        "      <td> 1364304199</td>\n",
        "      <td>      j.mp</td>\n",
        "      <td> NaN</td>\n",
        "      <td> speakerboehner</td>\n",
        "      <td>   [40.650101, -73.9496]</td>\n",
        "      <td> 1</td>\n",
        "      <td> http://t.co/DzSfokut7R</td>\n",
        "      <td> 1364304392</td>\n",
        "      <td> America/New_York</td>\n",
        "      <td> http://www.speaker.gov/general/top-10-excuses-...</td>\n",
        "    </tr>\n",
        "    <tr>\n",
        "      <th>4</th>\n",
        "      <td>NaN</td>\n",
        "      <td> Mozilla/5.0 (iPhone; CPU iPhone OS 6_1_3 like ...</td>\n",
        "      <td>          en-us</td>\n",
        "      <td>   US</td>\n",
        "      <td> Middle River</td>\n",
        "      <td>  YR0ZhX</td>\n",
        "      <td>  MD</td>\n",
        "      <td>  YR0ZhW</td>\n",
        "      <td> 1364286856</td>\n",
        "      <td> 1.usa.gov</td>\n",
        "      <td> NaN</td>\n",
        "      <td>   o_7rlbn33nlj</td>\n",
        "      <td> [39.340199, -76.402603]</td>\n",
        "      <td> 0</td>\n",
        "      <td> https://m.facebook.com</td>\n",
        "      <td> 1364304394</td>\n",
        "      <td> America/New_York</td>\n",
        "      <td> http://nairobi.usembassy.gov/sm-03252013.html#...</td>\n",
        "    </tr>\n",
        "  </tbody>\n",
        "</table>\n",
        "</div>"
       ],
       "metadata": {},
       "output_type": "pyout",
       "prompt_number": 384,
       "text": [
        "   _heartbeat_                                                  a              al     c            cy        g   gr        h          hc         hh   kw               l                       ll  nk                       r           t                tz                                                  u\n",
        "0          NaN  Mozilla/5.0 (Linux; U; Android 4.1.2; en-us; S...           en-US  None           NaN   X9Coe1  NaN   X9Coe0  1364304199       j.mp  NaN  speakerboehner                      NaN   0  http://t.co/DzSfokut7R  1364304391                    http://www.speaker.gov/general/top-10-excuses-...\n",
        "1          NaN  Mozilla/5.0 (Windows NT 6.1; WOW64) AppleWebKi...  en-US,en;q=0.8    US    Washington   X9Coe1   DC   X9Coe0  1364304199       j.mp  NaN  speakerboehner      [38.8951, -77.0364]   1  http://t.co/DzSfokut7R  1364304392  America/New_York  http://www.speaker.gov/general/top-10-excuses-...\n",
        "2          NaN  Mozilla/5.0 (iPod; CPU iPhone OS 6_1 like Mac ...           en-us    US        Selden  102GktN   NY  10JOxFv  1364300341  1.usa.gov  NaN        daweiner  [40.871399, -73.042503]   0                  direct  1364304391  America/New_York  http://www.fbi.gov/news/stories/2013/march/ufo...\n",
        "3          NaN  Mozilla/5.0 (Windows NT 6.1; WOW64) AppleWebKi...  en-US,en;q=0.8    US      Brooklyn   X9Coe1   NY   X9Coe0  1364304199       j.mp  NaN  speakerboehner    [40.650101, -73.9496]   1  http://t.co/DzSfokut7R  1364304392  America/New_York  http://www.speaker.gov/general/top-10-excuses-...\n",
        "4          NaN  Mozilla/5.0 (iPhone; CPU iPhone OS 6_1_3 like ...           en-us    US  Middle River   YR0ZhX   MD   YR0ZhW  1364286856  1.usa.gov  NaN    o_7rlbn33nlj  [39.340199, -76.402603]   0  https://m.facebook.com  1364304394  America/New_York  http://nairobi.usembassy.gov/sm-03252013.html#..."
       ]
      }
     ],
     "prompt_number": 384
    },
    {
     "cell_type": "code",
     "collapsed": false,
     "input": [
      "type(df)"
     ],
     "language": "python",
     "metadata": {},
     "outputs": [
      {
       "metadata": {},
       "output_type": "pyout",
       "prompt_number": 385,
       "text": [
        "pandas.core.frame.DataFrame"
       ]
      }
     ],
     "prompt_number": 385
    },
    {
     "cell_type": "code",
     "collapsed": false,
     "input": [
      "tz_counts = df['tz'].value_counts()"
     ],
     "language": "python",
     "metadata": {},
     "outputs": [],
     "prompt_number": 386
    },
    {
     "cell_type": "code",
     "collapsed": false,
     "input": [
      "tz_counts[:20]"
     ],
     "language": "python",
     "metadata": {},
     "outputs": [
      {
       "metadata": {},
       "output_type": "pyout",
       "prompt_number": 387,
       "text": [
        "America/New_York        2007\n",
        "                        1324\n",
        "America/Chicago          903\n",
        "America/Los_Angeles      412\n",
        "Europe/London            310\n",
        "America/Denver           173\n",
        "America/Rainy_River      117\n",
        "Asia/Tokyo               110\n",
        "Europe/Berlin            108\n",
        "Europe/Rome              101\n",
        "America/Sao_Paulo         95\n",
        "Europe/Madrid             93\n",
        "Asia/Calcutta             92\n",
        "America/Mexico_City       78\n",
        "America/Phoenix           69\n",
        "America/Indianapolis      63\n",
        "America/Montreal          60\n",
        "Asia/Hong_Kong            57\n",
        "Europe/Paris              57\n",
        "Europe/Warsaw             43\n",
        "dtype: int64"
       ]
      }
     ],
     "prompt_number": 387
    },
    {
     "cell_type": "code",
     "collapsed": false,
     "input": [
      "clean_tz = df['tz'].fillna('Missing')"
     ],
     "language": "python",
     "metadata": {},
     "outputs": [],
     "prompt_number": 388
    },
    {
     "cell_type": "code",
     "collapsed": false,
     "input": [
      "clean_tz[clean_tz == ''] = 'Unknown'"
     ],
     "language": "python",
     "metadata": {},
     "outputs": [],
     "prompt_number": 389
    },
    {
     "cell_type": "code",
     "collapsed": false,
     "input": [
      "tz_counts = clean_tz.value_counts()"
     ],
     "language": "python",
     "metadata": {},
     "outputs": [],
     "prompt_number": 390
    },
    {
     "cell_type": "code",
     "collapsed": false,
     "input": [
      "tz_counts[:20]"
     ],
     "language": "python",
     "metadata": {},
     "outputs": [
      {
       "metadata": {},
       "output_type": "pyout",
       "prompt_number": 391,
       "text": [
        "America/New_York        2007\n",
        "Unknown                 1324\n",
        "America/Chicago          903\n",
        "America/Los_Angeles      412\n",
        "Europe/London            310\n",
        "America/Denver           173\n",
        "Missing                  120\n",
        "America/Rainy_River      117\n",
        "Asia/Tokyo               110\n",
        "Europe/Berlin            108\n",
        "Europe/Rome              101\n",
        "America/Sao_Paulo         95\n",
        "Europe/Madrid             93\n",
        "Asia/Calcutta             92\n",
        "America/Mexico_City       78\n",
        "America/Phoenix           69\n",
        "America/Indianapolis      63\n",
        "America/Montreal          60\n",
        "Asia/Hong_Kong            57\n",
        "Europe/Paris              57\n",
        "dtype: int64"
       ]
      }
     ],
     "prompt_number": 391
    },
    {
     "cell_type": "heading",
     "level": 3,
     "metadata": {},
     "source": [
      "Top time zones in the 1.usa.gov sample data"
     ]
    },
    {
     "cell_type": "code",
     "collapsed": false,
     "input": [
      "tz_counts[:20].plot(kind='barh', figsize=(10, 6), color = sb.color_palette(\"Reds_d\", 20))"
     ],
     "language": "python",
     "metadata": {},
     "outputs": [
      {
       "metadata": {},
       "output_type": "pyout",
       "prompt_number": 413,
       "text": [
        "<matplotlib.axes._subplots.AxesSubplot at 0x1127d69e8>"
       ]
      },
      {
       "metadata": {},
       "output_type": "display_data",
       "png": "[encoded data removed]",
       "text": [
        "<matplotlib.figure.Figure at 0x11286e940>"
       ]
      }
     ],
     "prompt_number": 413
    },
    {
     "cell_type": "code",
     "collapsed": false,
     "input": [
      "df['a'][41]"
     ],
     "language": "python",
     "metadata": {},
     "outputs": [
      {
       "metadata": {},
       "output_type": "pyout",
       "prompt_number": 393,
       "text": [
        "'Mozilla/4.0 (compatible; MSIE 8.0; Windows NT 5.1; Trident/4.0; GTB7.4; .NET CLR 2.0.50727; .NET CLR 3.0.4506.2152; .NET CLR 3.5.30729; 89870493703; runtime 11.08028)'"
       ]
      }
     ],
     "prompt_number": 393
    },
    {
     "cell_type": "heading",
     "level": 3,
     "metadata": {},
     "source": [
      "Let's use a string function to parse interesting information in these \"agent\" strings"
     ]
    },
    {
     "cell_type": "code",
     "collapsed": false,
     "input": [
      "results = Series([x.split()[0] for x in df.a.dropna()])"
     ],
     "language": "python",
     "metadata": {},
     "outputs": [],
     "prompt_number": 394
    },
    {
     "cell_type": "code",
     "collapsed": false,
     "input": [
      "results[:5]"
     ],
     "language": "python",
     "metadata": {},
     "outputs": [
      {
       "metadata": {},
       "output_type": "pyout",
       "prompt_number": 395,
       "text": [
        "0    Mozilla/5.0\n",
        "1    Mozilla/5.0\n",
        "2    Mozilla/5.0\n",
        "3    Mozilla/5.0\n",
        "4    Mozilla/5.0\n",
        "dtype: object"
       ]
      }
     ],
     "prompt_number": 395
    },
    {
     "cell_type": "code",
     "collapsed": false,
     "input": [
      "results.head(5)"
     ],
     "language": "python",
     "metadata": {},
     "outputs": [
      {
       "metadata": {},
       "output_type": "pyout",
       "prompt_number": 396,
       "text": [
        "0    Mozilla/5.0\n",
        "1    Mozilla/5.0\n",
        "2    Mozilla/5.0\n",
        "3    Mozilla/5.0\n",
        "4    Mozilla/5.0\n",
        "dtype: object"
       ]
      }
     ],
     "prompt_number": 396
    },
    {
     "cell_type": "code",
     "collapsed": false,
     "input": [
      "results.value_counts()[:20]"
     ],
     "language": "python",
     "metadata": {},
     "outputs": [
      {
       "metadata": {},
       "output_type": "pyout",
       "prompt_number": 397,
       "text": [
        "Mozilla/5.0                 6284\n",
        "Mozilla/4.0                  847\n",
        "Opera/9.80                    67\n",
        "Kml-Google;                   64\n",
        "ShortLinkTranslate            52\n",
        "Dalvik/1.6.0                  17\n",
        "SINA_WEIBO;                   12\n",
        "GoogleProducer;               11\n",
        "Android                       10\n",
        "Redux/1.0                     10\n",
        "iCoreService                   9\n",
        "LWP::Simple/5.827              6\n",
        "DoCoMo/2.0                     5\n",
        "Nokia303/5.0                   5\n",
        "Dalvik/1.4.0                   4\n",
        "BlackBerry8520/5.0.0.592       4\n",
        "Socialite/7845                 3\n",
        "Microsoft                      3\n",
        "BlackBerry8520/5.0.0.681       3\n",
        "BlackBerry8520/5.0.0.900       3\n",
        "dtype: int64"
       ]
      }
     ],
     "prompt_number": 397
    },
    {
     "cell_type": "heading",
     "level": 3,
     "metadata": {},
     "source": [
      "Top Time Zones in Windows and non-Windows users"
     ]
    },
    {
     "cell_type": "code",
     "collapsed": false,
     "input": [
      "cframe = df[df.a.notnull()]"
     ],
     "language": "python",
     "metadata": {},
     "outputs": [],
     "prompt_number": 398
    },
    {
     "cell_type": "code",
     "collapsed": false,
     "input": [
      "operating_system = np.where(cframe['a'].str.contains('Windows'), 'Windows',\n",
      "                            'Not Windows')"
     ],
     "language": "python",
     "metadata": {},
     "outputs": [],
     "prompt_number": 399
    },
    {
     "cell_type": "code",
     "collapsed": false,
     "input": [
      "operating_system[:5]"
     ],
     "language": "python",
     "metadata": {},
     "outputs": [
      {
       "metadata": {},
       "output_type": "pyout",
       "prompt_number": 400,
       "text": [
        "array(['Not Windows', 'Windows', 'Not Windows', 'Windows', 'Not Windows'], \n",
        "      dtype='<U11')"
       ]
      }
     ],
     "prompt_number": 400
    },
    {
     "cell_type": "heading",
     "level": 3,
     "metadata": {},
     "source": [
      "Grouping data by time zone column and new list of OS's"
     ]
    },
    {
     "cell_type": "code",
     "collapsed": false,
     "input": [
      "by_tz_os = cframe.groupby(['tz', operating_system])"
     ],
     "language": "python",
     "metadata": {},
     "outputs": [],
     "prompt_number": 401
    },
    {
     "cell_type": "code",
     "collapsed": false,
     "input": [
      "agg_counts = by_tz_os.size().unstack().fillna(0) #group counts using size and reshaped into a table with unstack "
     ],
     "language": "python",
     "metadata": {},
     "outputs": [],
     "prompt_number": 402
    },
    {
     "cell_type": "code",
     "collapsed": false,
     "input": [
      "agg_counts[:10]"
     ],
     "language": "python",
     "metadata": {},
     "outputs": [
      {
       "html": [
        "<div style=\"max-height:1000px;max-width:1500px;overflow:auto;\">\n",
        "<table border=\"1\" class=\"dataframe\">\n",
        "  <thead>\n",
        "    <tr style=\"text-align: right;\">\n",
        "      <th></th>\n",
        "      <th>Not Windows</th>\n",
        "      <th>Windows</th>\n",
        "    </tr>\n",
        "    <tr>\n",
        "      <th>tz</th>\n",
        "      <th></th>\n",
        "      <th></th>\n",
        "    </tr>\n",
        "  </thead>\n",
        "  <tbody>\n",
        "    <tr>\n",
        "      <th></th>\n",
        "      <td> 796</td>\n",
        "      <td> 528</td>\n",
        "    </tr>\n",
        "    <tr>\n",
        "      <th>Africa/Addis_Ababa</th>\n",
        "      <td>   0</td>\n",
        "      <td>   1</td>\n",
        "    </tr>\n",
        "    <tr>\n",
        "      <th>Africa/Cairo</th>\n",
        "      <td>   1</td>\n",
        "      <td>  10</td>\n",
        "    </tr>\n",
        "    <tr>\n",
        "      <th>Africa/Casablanca</th>\n",
        "      <td>   0</td>\n",
        "      <td>   1</td>\n",
        "    </tr>\n",
        "    <tr>\n",
        "      <th>Africa/Ceuta</th>\n",
        "      <td>   7</td>\n",
        "      <td>   6</td>\n",
        "    </tr>\n",
        "    <tr>\n",
        "      <th>Africa/Gaborone</th>\n",
        "      <td>   0</td>\n",
        "      <td>   2</td>\n",
        "    </tr>\n",
        "    <tr>\n",
        "      <th>Africa/Johannesburg</th>\n",
        "      <td>   1</td>\n",
        "      <td>  13</td>\n",
        "    </tr>\n",
        "    <tr>\n",
        "      <th>Africa/Kampala</th>\n",
        "      <td>   0</td>\n",
        "      <td>   1</td>\n",
        "    </tr>\n",
        "    <tr>\n",
        "      <th>Africa/Lagos</th>\n",
        "      <td>   1</td>\n",
        "      <td>   3</td>\n",
        "    </tr>\n",
        "    <tr>\n",
        "      <th>Africa/Nairobi</th>\n",
        "      <td>   3</td>\n",
        "      <td>  15</td>\n",
        "    </tr>\n",
        "  </tbody>\n",
        "</table>\n",
        "</div>"
       ],
       "metadata": {},
       "output_type": "pyout",
       "prompt_number": 403,
       "text": [
        "                     Not Windows  Windows\n",
        "tz                                       \n",
        "                             796      528\n",
        "Africa/Addis_Ababa             0        1\n",
        "Africa/Cairo                   1       10\n",
        "Africa/Casablanca              0        1\n",
        "Africa/Ceuta                   7        6\n",
        "Africa/Gaborone                0        2\n",
        "Africa/Johannesburg            1       13\n",
        "Africa/Kampala                 0        1\n",
        "Africa/Lagos                   1        3\n",
        "Africa/Nairobi                 3       15"
       ]
      }
     ],
     "prompt_number": 403
    },
    {
     "cell_type": "heading",
     "level": 3,
     "metadata": {},
     "source": [
      "Selecting top overall time zones"
     ]
    },
    {
     "cell_type": "code",
     "collapsed": false,
     "input": [
      "indexer = agg_counts.sum(1).argsort()"
     ],
     "language": "python",
     "metadata": {},
     "outputs": [],
     "prompt_number": 404
    },
    {
     "cell_type": "code",
     "collapsed": false,
     "input": [
      "indexer[:10]"
     ],
     "language": "python",
     "metadata": {},
     "outputs": [
      {
       "metadata": {},
       "output_type": "pyout",
       "prompt_number": 405,
       "text": [
        "tz\n",
        "                       146\n",
        "Africa/Addis_Ababa      94\n",
        "Africa/Cairo            83\n",
        "Africa/Casablanca       77\n",
        "Africa/Ceuta            75\n",
        "Africa/Gaborone         65\n",
        "Africa/Johannesburg     64\n",
        "Africa/Kampala         116\n",
        "Africa/Lagos           122\n",
        "Africa/Nairobi         123\n",
        "dtype: int64"
       ]
      }
     ],
     "prompt_number": 405
    },
    {
     "cell_type": "code",
     "collapsed": false,
     "input": [
      "count_subset = agg_counts.take(indexer)[-10:]"
     ],
     "language": "python",
     "metadata": {},
     "outputs": [],
     "prompt_number": 406
    },
    {
     "cell_type": "code",
     "collapsed": false,
     "input": [
      "count_subset"
     ],
     "language": "python",
     "metadata": {},
     "outputs": [
      {
       "html": [
        "<div style=\"max-height:1000px;max-width:1500px;overflow:auto;\">\n",
        "<table border=\"1\" class=\"dataframe\">\n",
        "  <thead>\n",
        "    <tr style=\"text-align: right;\">\n",
        "      <th></th>\n",
        "      <th>Not Windows</th>\n",
        "      <th>Windows</th>\n",
        "    </tr>\n",
        "    <tr>\n",
        "      <th>tz</th>\n",
        "      <th></th>\n",
        "      <th></th>\n",
        "    </tr>\n",
        "  </thead>\n",
        "  <tbody>\n",
        "    <tr>\n",
        "      <th>Europe/Rome</th>\n",
        "      <td>  29</td>\n",
        "      <td>   72</td>\n",
        "    </tr>\n",
        "    <tr>\n",
        "      <th>Europe/Berlin</th>\n",
        "      <td>  30</td>\n",
        "      <td>   78</td>\n",
        "    </tr>\n",
        "    <tr>\n",
        "      <th>Asia/Tokyo</th>\n",
        "      <td>  70</td>\n",
        "      <td>   40</td>\n",
        "    </tr>\n",
        "    <tr>\n",
        "      <th>America/Rainy_River</th>\n",
        "      <td>  66</td>\n",
        "      <td>   51</td>\n",
        "    </tr>\n",
        "    <tr>\n",
        "      <th>America/Denver</th>\n",
        "      <td>  76</td>\n",
        "      <td>   97</td>\n",
        "    </tr>\n",
        "    <tr>\n",
        "      <th>Europe/London</th>\n",
        "      <td> 167</td>\n",
        "      <td>  143</td>\n",
        "    </tr>\n",
        "    <tr>\n",
        "      <th>America/Los_Angeles</th>\n",
        "      <td> 266</td>\n",
        "      <td>  146</td>\n",
        "    </tr>\n",
        "    <tr>\n",
        "      <th>America/Chicago</th>\n",
        "      <td> 345</td>\n",
        "      <td>  558</td>\n",
        "    </tr>\n",
        "    <tr>\n",
        "      <th></th>\n",
        "      <td> 796</td>\n",
        "      <td>  528</td>\n",
        "    </tr>\n",
        "    <tr>\n",
        "      <th>America/New_York</th>\n",
        "      <td> 772</td>\n",
        "      <td> 1235</td>\n",
        "    </tr>\n",
        "  </tbody>\n",
        "</table>\n",
        "</div>"
       ],
       "metadata": {},
       "output_type": "pyout",
       "prompt_number": 407,
       "text": [
        "                     Not Windows  Windows\n",
        "tz                                       \n",
        "Europe/Rome                   29       72\n",
        "Europe/Berlin                 30       78\n",
        "Asia/Tokyo                    70       40\n",
        "America/Rainy_River           66       51\n",
        "America/Denver                76       97\n",
        "Europe/London                167      143\n",
        "America/Los_Angeles          266      146\n",
        "America/Chicago              345      558\n",
        "                             796      528\n",
        "America/New_York             772     1235"
       ]
      }
     ],
     "prompt_number": 407
    },
    {
     "cell_type": "code",
     "collapsed": false,
     "input": [
      "count_subset.plot(kind='barh', stacked=True, figsize=(10, 6))"
     ],
     "language": "python",
     "metadata": {},
     "outputs": [
      {
       "metadata": {},
       "output_type": "pyout",
       "prompt_number": 416,
       "text": [
        "<matplotlib.axes._subplots.AxesSubplot at 0x115d146d8>"
       ]
      },
      {
       "metadata": {},
       "output_type": "display_data",
       "png": "[encoded data removed]",
       "text": [
        "<matplotlib.figure.Figure at 0x1127b4c50>"
       ]
      }
     ],
     "prompt_number": 416
    },
    {
     "cell_type": "heading",
     "level": 3,
     "metadata": {},
     "source": [
      "Let's make it easier to see the relative amount of Windows users by normalizing the rows to sum to 1"
     ]
    },
    {
     "cell_type": "code",
     "collapsed": false,
     "input": [
      "normed_subset = count_subset.div(count_subset.sum(1), axis=0)"
     ],
     "language": "python",
     "metadata": {},
     "outputs": [],
     "prompt_number": 409
    },
    {
     "cell_type": "code",
     "collapsed": false,
     "input": [
      "normed_subset.plot(kind='barh', figsize=(10, 6))"
     ],
     "language": "python",
     "metadata": {},
     "outputs": [
      {
       "metadata": {},
       "output_type": "pyout",
       "prompt_number": 412,
       "text": [
        "<matplotlib.axes._subplots.AxesSubplot at 0x1127212e8>"
       ]
      },
      {
       "metadata": {},
       "output_type": "display_data",
       "png": "[encoded data removed]",
       "text": [
        "<matplotlib.figure.Figure at 0x11246e2b0>"
       ]
      }
     ],
     "prompt_number": 412
    }
   ],
   "metadata": {}
  }
 ]
}