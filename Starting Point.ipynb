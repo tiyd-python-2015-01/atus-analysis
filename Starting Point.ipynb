{
 "metadata": {
  "name": "",
  "signature": "sha256:223b86d83a83a215227cf2e2e48382732ad55016082392f93a7a007c54f9f9a3"
 },
 "nbformat": 3,
 "nbformat_minor": 0,
 "worksheets": [
  {
   "cells": [
    {
     "cell_type": "code",
     "collapsed": false,
     "input": [
      "import pandas as pd\n",
      "import matplotlib.pyplot as plt\n",
      "import re\n",
      "import numpy as np\n",
      "import seaborn as sns"
     ],
     "language": "python",
     "metadata": {},
     "outputs": [],
     "prompt_number": 1
    },
    {
     "cell_type": "code",
     "collapsed": false,
     "input": [
      "import matplotlib.pyplot as plt"
     ],
     "language": "python",
     "metadata": {},
     "outputs": [],
     "prompt_number": 2
    },
    {
     "cell_type": "code",
     "collapsed": false,
     "input": [
      "%matplotlib inline\n",
      "plt.rc('figure', figsize=(12, 8))"
     ],
     "language": "python",
     "metadata": {},
     "outputs": [],
     "prompt_number": 3
    },
    {
     "cell_type": "code",
     "collapsed": false,
     "input": [
      "summary = pd.read_csv(\"atusdata/atussum_2013/atussum_2013.dat\")\n",
      "summary.info()"
     ],
     "language": "python",
     "metadata": {},
     "outputs": [
      {
       "output_type": "stream",
       "stream": "stdout",
       "text": [
        "<class 'pandas.core.frame.DataFrame'>\n",
        "Int64Index: 11385 entries, 0 to 11384\n",
        "Columns: 413 entries, tucaseid to t500107\n",
        "dtypes: float64(1), int64(412)\n",
        "memory usage: 36.0 MB\n"
       ]
      }
     ],
     "prompt_number": 4
    },
    {
     "cell_type": "code",
     "collapsed": false,
     "input": [
      "summary.head()"
     ],
     "language": "python",
     "metadata": {},
     "outputs": [
      {
       "html": [
        "<div style=\"max-height:1000px;max-width:1500px;overflow:auto;\">\n",
        "<table border=\"1\" class=\"dataframe\">\n",
        "  <thead>\n",
        "    <tr style=\"text-align: right;\">\n",
        "      <th></th>\n",
        "      <th>tucaseid</th>\n",
        "      <th>TUFINLWGT</th>\n",
        "      <th>TRYHHCHILD</th>\n",
        "      <th>TEAGE</th>\n",
        "      <th>TESEX</th>\n",
        "      <th>PEEDUCA</th>\n",
        "      <th>PTDTRACE</th>\n",
        "      <th>PEHSPNON</th>\n",
        "      <th>GTMETSTA</th>\n",
        "      <th>TELFS</th>\n",
        "      <th>...</th>\n",
        "      <th>t181501</th>\n",
        "      <th>t181599</th>\n",
        "      <th>t181601</th>\n",
        "      <th>t181801</th>\n",
        "      <th>t189999</th>\n",
        "      <th>t500101</th>\n",
        "      <th>t500103</th>\n",
        "      <th>t500105</th>\n",
        "      <th>t500106</th>\n",
        "      <th>t500107</th>\n",
        "    </tr>\n",
        "  </thead>\n",
        "  <tbody>\n",
        "    <tr>\n",
        "      <th>0</th>\n",
        "      <td> 20130101130004</td>\n",
        "      <td> 11899905.662034</td>\n",
        "      <td> 12</td>\n",
        "      <td> 22</td>\n",
        "      <td> 2</td>\n",
        "      <td> 40</td>\n",
        "      <td> 8</td>\n",
        "      <td> 2</td>\n",
        "      <td> 1</td>\n",
        "      <td> 5</td>\n",
        "      <td>...</td>\n",
        "      <td>  0</td>\n",
        "      <td> 0</td>\n",
        "      <td> 0</td>\n",
        "      <td> 0</td>\n",
        "      <td> 0</td>\n",
        "      <td> 0</td>\n",
        "      <td> 0</td>\n",
        "      <td> 0</td>\n",
        "      <td> 0</td>\n",
        "      <td> 0</td>\n",
        "    </tr>\n",
        "    <tr>\n",
        "      <th>1</th>\n",
        "      <td> 20130101130112</td>\n",
        "      <td>  4447638.009513</td>\n",
        "      <td>  1</td>\n",
        "      <td> 39</td>\n",
        "      <td> 1</td>\n",
        "      <td> 43</td>\n",
        "      <td> 1</td>\n",
        "      <td> 2</td>\n",
        "      <td> 1</td>\n",
        "      <td> 1</td>\n",
        "      <td>...</td>\n",
        "      <td>  0</td>\n",
        "      <td> 0</td>\n",
        "      <td> 0</td>\n",
        "      <td> 0</td>\n",
        "      <td> 0</td>\n",
        "      <td> 0</td>\n",
        "      <td> 0</td>\n",
        "      <td> 0</td>\n",
        "      <td> 0</td>\n",
        "      <td> 0</td>\n",
        "    </tr>\n",
        "    <tr>\n",
        "      <th>2</th>\n",
        "      <td> 20130101130123</td>\n",
        "      <td> 10377056.507734</td>\n",
        "      <td> -1</td>\n",
        "      <td> 47</td>\n",
        "      <td> 2</td>\n",
        "      <td> 40</td>\n",
        "      <td> 1</td>\n",
        "      <td> 2</td>\n",
        "      <td> 1</td>\n",
        "      <td> 4</td>\n",
        "      <td>...</td>\n",
        "      <td> 25</td>\n",
        "      <td> 0</td>\n",
        "      <td> 0</td>\n",
        "      <td> 0</td>\n",
        "      <td> 0</td>\n",
        "      <td> 0</td>\n",
        "      <td> 0</td>\n",
        "      <td> 0</td>\n",
        "      <td> 0</td>\n",
        "      <td> 0</td>\n",
        "    </tr>\n",
        "    <tr>\n",
        "      <th>3</th>\n",
        "      <td> 20130101130611</td>\n",
        "      <td>  7731257.992805</td>\n",
        "      <td> -1</td>\n",
        "      <td> 50</td>\n",
        "      <td> 2</td>\n",
        "      <td> 40</td>\n",
        "      <td> 1</td>\n",
        "      <td> 1</td>\n",
        "      <td> 1</td>\n",
        "      <td> 1</td>\n",
        "      <td>...</td>\n",
        "      <td>  0</td>\n",
        "      <td> 0</td>\n",
        "      <td> 0</td>\n",
        "      <td> 0</td>\n",
        "      <td> 0</td>\n",
        "      <td> 0</td>\n",
        "      <td> 0</td>\n",
        "      <td> 0</td>\n",
        "      <td> 0</td>\n",
        "      <td> 0</td>\n",
        "    </tr>\n",
        "    <tr>\n",
        "      <th>4</th>\n",
        "      <td> 20130101130616</td>\n",
        "      <td>  4725269.227067</td>\n",
        "      <td> -1</td>\n",
        "      <td> 45</td>\n",
        "      <td> 2</td>\n",
        "      <td> 40</td>\n",
        "      <td> 2</td>\n",
        "      <td> 2</td>\n",
        "      <td> 1</td>\n",
        "      <td> 1</td>\n",
        "      <td>...</td>\n",
        "      <td>  0</td>\n",
        "      <td> 0</td>\n",
        "      <td> 0</td>\n",
        "      <td> 0</td>\n",
        "      <td> 0</td>\n",
        "      <td> 0</td>\n",
        "      <td> 0</td>\n",
        "      <td> 0</td>\n",
        "      <td> 0</td>\n",
        "      <td> 0</td>\n",
        "    </tr>\n",
        "  </tbody>\n",
        "</table>\n",
        "<p>5 rows \u00d7 413 columns</p>\n",
        "</div>"
       ],
       "metadata": {},
       "output_type": "pyout",
       "prompt_number": 5,
       "text": [
        "         tucaseid        TUFINLWGT  TRYHHCHILD  TEAGE  TESEX  PEEDUCA  \\\n",
        "0  20130101130004  11899905.662034          12     22      2       40   \n",
        "1  20130101130112   4447638.009513           1     39      1       43   \n",
        "2  20130101130123  10377056.507734          -1     47      2       40   \n",
        "3  20130101130611   7731257.992805          -1     50      2       40   \n",
        "4  20130101130616   4725269.227067          -1     45      2       40   \n",
        "\n",
        "   PTDTRACE  PEHSPNON  GTMETSTA  TELFS   ...     t181501  t181599  t181601  \\\n",
        "0         8         2         1      5   ...           0        0        0   \n",
        "1         1         2         1      1   ...           0        0        0   \n",
        "2         1         2         1      4   ...          25        0        0   \n",
        "3         1         1         1      1   ...           0        0        0   \n",
        "4         2         2         1      1   ...           0        0        0   \n",
        "\n",
        "   t181801  t189999  t500101  t500103  t500105  t500106  t500107  \n",
        "0        0        0        0        0        0        0        0  \n",
        "1        0        0        0        0        0        0        0  \n",
        "2        0        0        0        0        0        0        0  \n",
        "3        0        0        0        0        0        0        0  \n",
        "4        0        0        0        0        0        0        0  \n",
        "\n",
        "[5 rows x 413 columns]"
       ]
      }
     ],
     "prompt_number": 5
    },
    {
     "cell_type": "markdown",
     "metadata": {},
     "source": [
      "Pertinent columns:\n",
      "\n",
      "* TUFINLWGT - statistical weight of respondent\n",
      "* TRYHHCHILD - age of youngest child in household\n",
      "* TEAGE - age of respondent\n",
      "* TESEX - sex of respondent\n",
      "* TELFS - working status of respondent\n",
      "* TRCHILDNUM - number of children in household"
     ]
    },
    {
     "cell_type": "code",
     "collapsed": false,
     "input": [
      "summary.head()"
     ],
     "language": "python",
     "metadata": {},
     "outputs": [
      {
       "html": [
        "<div style=\"max-height:1000px;max-width:1500px;overflow:auto;\">\n",
        "<table border=\"1\" class=\"dataframe\">\n",
        "  <thead>\n",
        "    <tr style=\"text-align: right;\">\n",
        "      <th></th>\n",
        "      <th>tucaseid</th>\n",
        "      <th>TUFINLWGT</th>\n",
        "      <th>TRYHHCHILD</th>\n",
        "      <th>TEAGE</th>\n",
        "      <th>TESEX</th>\n",
        "      <th>PEEDUCA</th>\n",
        "      <th>PTDTRACE</th>\n",
        "      <th>PEHSPNON</th>\n",
        "      <th>GTMETSTA</th>\n",
        "      <th>TELFS</th>\n",
        "      <th>...</th>\n",
        "      <th>t181501</th>\n",
        "      <th>t181599</th>\n",
        "      <th>t181601</th>\n",
        "      <th>t181801</th>\n",
        "      <th>t189999</th>\n",
        "      <th>t500101</th>\n",
        "      <th>t500103</th>\n",
        "      <th>t500105</th>\n",
        "      <th>t500106</th>\n",
        "      <th>t500107</th>\n",
        "    </tr>\n",
        "  </thead>\n",
        "  <tbody>\n",
        "    <tr>\n",
        "      <th>0</th>\n",
        "      <td> 20130101130004</td>\n",
        "      <td> 11899905.662034</td>\n",
        "      <td> 12</td>\n",
        "      <td> 22</td>\n",
        "      <td> 2</td>\n",
        "      <td> 40</td>\n",
        "      <td> 8</td>\n",
        "      <td> 2</td>\n",
        "      <td> 1</td>\n",
        "      <td> 5</td>\n",
        "      <td>...</td>\n",
        "      <td>  0</td>\n",
        "      <td> 0</td>\n",
        "      <td> 0</td>\n",
        "      <td> 0</td>\n",
        "      <td> 0</td>\n",
        "      <td> 0</td>\n",
        "      <td> 0</td>\n",
        "      <td> 0</td>\n",
        "      <td> 0</td>\n",
        "      <td> 0</td>\n",
        "    </tr>\n",
        "    <tr>\n",
        "      <th>1</th>\n",
        "      <td> 20130101130112</td>\n",
        "      <td>  4447638.009513</td>\n",
        "      <td>  1</td>\n",
        "      <td> 39</td>\n",
        "      <td> 1</td>\n",
        "      <td> 43</td>\n",
        "      <td> 1</td>\n",
        "      <td> 2</td>\n",
        "      <td> 1</td>\n",
        "      <td> 1</td>\n",
        "      <td>...</td>\n",
        "      <td>  0</td>\n",
        "      <td> 0</td>\n",
        "      <td> 0</td>\n",
        "      <td> 0</td>\n",
        "      <td> 0</td>\n",
        "      <td> 0</td>\n",
        "      <td> 0</td>\n",
        "      <td> 0</td>\n",
        "      <td> 0</td>\n",
        "      <td> 0</td>\n",
        "    </tr>\n",
        "    <tr>\n",
        "      <th>2</th>\n",
        "      <td> 20130101130123</td>\n",
        "      <td> 10377056.507734</td>\n",
        "      <td> -1</td>\n",
        "      <td> 47</td>\n",
        "      <td> 2</td>\n",
        "      <td> 40</td>\n",
        "      <td> 1</td>\n",
        "      <td> 2</td>\n",
        "      <td> 1</td>\n",
        "      <td> 4</td>\n",
        "      <td>...</td>\n",
        "      <td> 25</td>\n",
        "      <td> 0</td>\n",
        "      <td> 0</td>\n",
        "      <td> 0</td>\n",
        "      <td> 0</td>\n",
        "      <td> 0</td>\n",
        "      <td> 0</td>\n",
        "      <td> 0</td>\n",
        "      <td> 0</td>\n",
        "      <td> 0</td>\n",
        "    </tr>\n",
        "    <tr>\n",
        "      <th>3</th>\n",
        "      <td> 20130101130611</td>\n",
        "      <td>  7731257.992805</td>\n",
        "      <td> -1</td>\n",
        "      <td> 50</td>\n",
        "      <td> 2</td>\n",
        "      <td> 40</td>\n",
        "      <td> 1</td>\n",
        "      <td> 1</td>\n",
        "      <td> 1</td>\n",
        "      <td> 1</td>\n",
        "      <td>...</td>\n",
        "      <td>  0</td>\n",
        "      <td> 0</td>\n",
        "      <td> 0</td>\n",
        "      <td> 0</td>\n",
        "      <td> 0</td>\n",
        "      <td> 0</td>\n",
        "      <td> 0</td>\n",
        "      <td> 0</td>\n",
        "      <td> 0</td>\n",
        "      <td> 0</td>\n",
        "    </tr>\n",
        "    <tr>\n",
        "      <th>4</th>\n",
        "      <td> 20130101130616</td>\n",
        "      <td>  4725269.227067</td>\n",
        "      <td> -1</td>\n",
        "      <td> 45</td>\n",
        "      <td> 2</td>\n",
        "      <td> 40</td>\n",
        "      <td> 2</td>\n",
        "      <td> 2</td>\n",
        "      <td> 1</td>\n",
        "      <td> 1</td>\n",
        "      <td>...</td>\n",
        "      <td>  0</td>\n",
        "      <td> 0</td>\n",
        "      <td> 0</td>\n",
        "      <td> 0</td>\n",
        "      <td> 0</td>\n",
        "      <td> 0</td>\n",
        "      <td> 0</td>\n",
        "      <td> 0</td>\n",
        "      <td> 0</td>\n",
        "      <td> 0</td>\n",
        "    </tr>\n",
        "  </tbody>\n",
        "</table>\n",
        "<p>5 rows \u00d7 413 columns</p>\n",
        "</div>"
       ],
       "metadata": {},
       "output_type": "pyout",
       "prompt_number": 6,
       "text": [
        "         tucaseid        TUFINLWGT  TRYHHCHILD  TEAGE  TESEX  PEEDUCA  \\\n",
        "0  20130101130004  11899905.662034          12     22      2       40   \n",
        "1  20130101130112   4447638.009513           1     39      1       43   \n",
        "2  20130101130123  10377056.507734          -1     47      2       40   \n",
        "3  20130101130611   7731257.992805          -1     50      2       40   \n",
        "4  20130101130616   4725269.227067          -1     45      2       40   \n",
        "\n",
        "   PTDTRACE  PEHSPNON  GTMETSTA  TELFS   ...     t181501  t181599  t181601  \\\n",
        "0         8         2         1      5   ...           0        0        0   \n",
        "1         1         2         1      1   ...           0        0        0   \n",
        "2         1         2         1      4   ...          25        0        0   \n",
        "3         1         1         1      1   ...           0        0        0   \n",
        "4         2         2         1      1   ...           0        0        0   \n",
        "\n",
        "   t181801  t189999  t500101  t500103  t500105  t500106  t500107  \n",
        "0        0        0        0        0        0        0        0  \n",
        "1        0        0        0        0        0        0        0  \n",
        "2        0        0        0        0        0        0        0  \n",
        "3        0        0        0        0        0        0        0  \n",
        "4        0        0        0        0        0        0        0  \n",
        "\n",
        "[5 rows x 413 columns]"
       ]
      }
     ],
     "prompt_number": 6
    },
    {
     "cell_type": "code",
     "collapsed": false,
     "input": [
      "adults_crit = (summary.TEAGE >= 18)\n",
      "no_children_crit = (summary.TRCHILDNUM == 0)"
     ],
     "language": "python",
     "metadata": {},
     "outputs": [],
     "prompt_number": 7
    },
    {
     "cell_type": "code",
     "collapsed": false,
     "input": [
      "adults_with_no_children = summary[adults_crit & no_children_crit]\n",
      "adults_with_no_children.info()"
     ],
     "language": "python",
     "metadata": {},
     "outputs": [
      {
       "output_type": "stream",
       "stream": "stdout",
       "text": [
        "<class 'pandas.core.frame.DataFrame'>\n",
        "Int64Index: 6481 entries, 2 to 11381\n",
        "Columns: 413 entries, tucaseid to t500107\n",
        "dtypes: float64(1), int64(412)\n",
        "memory usage: 20.5 MB\n"
       ]
      }
     ],
     "prompt_number": 8
    },
    {
     "cell_type": "code",
     "collapsed": false,
     "input": [
      "data = adults_with_no_children[['TUFINLWGT', 't120303']]\n",
      "data = data.rename(columns={\"TUFINLWGT\": \"weight\", \"t120303\": \"minutes\"})\n",
      "data.head()"
     ],
     "language": "python",
     "metadata": {},
     "outputs": [
      {
       "html": [
        "<div style=\"max-height:1000px;max-width:1500px;overflow:auto;\">\n",
        "<table border=\"1\" class=\"dataframe\">\n",
        "  <thead>\n",
        "    <tr style=\"text-align: right;\">\n",
        "      <th></th>\n",
        "      <th>weight</th>\n",
        "      <th>minutes</th>\n",
        "    </tr>\n",
        "  </thead>\n",
        "  <tbody>\n",
        "    <tr>\n",
        "      <th>2</th>\n",
        "      <td> 10377056.507734</td>\n",
        "      <td>  60</td>\n",
        "    </tr>\n",
        "    <tr>\n",
        "      <th>3</th>\n",
        "      <td>  7731257.992805</td>\n",
        "      <td>  65</td>\n",
        "    </tr>\n",
        "    <tr>\n",
        "      <th>4</th>\n",
        "      <td>  4725269.227067</td>\n",
        "      <td>  90</td>\n",
        "    </tr>\n",
        "    <tr>\n",
        "      <th>5</th>\n",
        "      <td>  2372791.046351</td>\n",
        "      <td> 270</td>\n",
        "    </tr>\n",
        "    <tr>\n",
        "      <th>6</th>\n",
        "      <td>  5671341.270490</td>\n",
        "      <td> 244</td>\n",
        "    </tr>\n",
        "  </tbody>\n",
        "</table>\n",
        "</div>"
       ],
       "metadata": {},
       "output_type": "pyout",
       "prompt_number": 9,
       "text": [
        "            weight  minutes\n",
        "2  10377056.507734       60\n",
        "3   7731257.992805       65\n",
        "4   4725269.227067       90\n",
        "5   2372791.046351      270\n",
        "6   5671341.270490      244"
       ]
      }
     ],
     "prompt_number": 9
    },
    {
     "cell_type": "code",
     "collapsed": false,
     "input": [
      "data['weighted_minutes'] = data.weight * data.minutes"
     ],
     "language": "python",
     "metadata": {},
     "outputs": [],
     "prompt_number": 10
    },
    {
     "cell_type": "code",
     "collapsed": false,
     "input": [
      "data.head()"
     ],
     "language": "python",
     "metadata": {},
     "outputs": [
      {
       "html": [
        "<div style=\"max-height:1000px;max-width:1500px;overflow:auto;\">\n",
        "<table border=\"1\" class=\"dataframe\">\n",
        "  <thead>\n",
        "    <tr style=\"text-align: right;\">\n",
        "      <th></th>\n",
        "      <th>weight</th>\n",
        "      <th>minutes</th>\n",
        "      <th>weighted_minutes</th>\n",
        "    </tr>\n",
        "  </thead>\n",
        "  <tbody>\n",
        "    <tr>\n",
        "      <th>2</th>\n",
        "      <td> 10377056.507734</td>\n",
        "      <td>  60</td>\n",
        "      <td> 6.226234e+08</td>\n",
        "    </tr>\n",
        "    <tr>\n",
        "      <th>3</th>\n",
        "      <td>  7731257.992805</td>\n",
        "      <td>  65</td>\n",
        "      <td> 5.025318e+08</td>\n",
        "    </tr>\n",
        "    <tr>\n",
        "      <th>4</th>\n",
        "      <td>  4725269.227067</td>\n",
        "      <td>  90</td>\n",
        "      <td> 4.252742e+08</td>\n",
        "    </tr>\n",
        "    <tr>\n",
        "      <th>5</th>\n",
        "      <td>  2372791.046351</td>\n",
        "      <td> 270</td>\n",
        "      <td> 6.406536e+08</td>\n",
        "    </tr>\n",
        "    <tr>\n",
        "      <th>6</th>\n",
        "      <td>  5671341.270490</td>\n",
        "      <td> 244</td>\n",
        "      <td> 1.383807e+09</td>\n",
        "    </tr>\n",
        "  </tbody>\n",
        "</table>\n",
        "</div>"
       ],
       "metadata": {},
       "output_type": "pyout",
       "prompt_number": 11,
       "text": [
        "            weight  minutes  weighted_minutes\n",
        "2  10377056.507734       60      6.226234e+08\n",
        "3   7731257.992805       65      5.025318e+08\n",
        "4   4725269.227067       90      4.252742e+08\n",
        "5   2372791.046351      270      6.406536e+08\n",
        "6   5671341.270490      244      1.383807e+09"
       ]
      }
     ],
     "prompt_number": 11
    },
    {
     "cell_type": "code",
     "collapsed": false,
     "input": [
      "data.weighted_minutes.sum() / data.weight.sum() / 60"
     ],
     "language": "python",
     "metadata": {},
     "outputs": [
      {
       "metadata": {},
       "output_type": "pyout",
       "prompt_number": 12,
       "text": [
        "3.1709004734759403"
       ]
      }
     ],
     "prompt_number": 12
    },
    {
     "cell_type": "code",
     "collapsed": false,
     "input": [
      "def average_minutes(data, activity_code):\n",
      "    activity_col = \"t{}\".format(activity_code)\n",
      "    data = data[['TUFINLWGT', activity_col]]\n",
      "    data = data.rename(columns={\"TUFINLWGT\": \"weight\", activity_col: \"minutes\"})\n",
      "    data['weighted_minutes'] = data.weight * data.minutes\n",
      "    return data.weighted_minutes.sum() / data.weight.sum()"
     ],
     "language": "python",
     "metadata": {},
     "outputs": [],
     "prompt_number": 13
    },
    {
     "cell_type": "code",
     "collapsed": false,
     "input": [
      "sleeping = average_minutes(adults_with_no_children, \"010101\")\n",
      "sleepless = average_minutes(adults_with_no_children, \"010102\")\n",
      "(sleeping + sleepless) / 60"
     ],
     "language": "python",
     "metadata": {},
     "outputs": [
      {
       "metadata": {},
       "output_type": "pyout",
       "prompt_number": 14,
       "text": [
        "8.7508537061809992"
       ]
      }
     ],
     "prompt_number": 14
    },
    {
     "cell_type": "code",
     "collapsed": false,
     "input": [
      "def activity_columns(data, activity_code):\n",
      "    \"\"\"For the activity code given, return all columns that fall under that activity.\"\"\"\n",
      "    col_prefix = \"t{}\".format(activity_code)\n",
      "    return [column for column in data.columns if re.match(col_prefix, column)]"
     ],
     "language": "python",
     "metadata": {},
     "outputs": [],
     "prompt_number": 15
    },
    {
     "cell_type": "code",
     "collapsed": false,
     "input": [
      "activity_columns(summary, \"0101\")"
     ],
     "language": "python",
     "metadata": {},
     "outputs": [
      {
       "metadata": {},
       "output_type": "pyout",
       "prompt_number": 16,
       "text": [
        "['t010101', 't010102']"
       ]
      }
     ],
     "prompt_number": 16
    },
    {
     "cell_type": "code",
     "collapsed": false,
     "input": [
      "def average_minutes2(data, activity_code):\n",
      "    cols = activity_columns(data, activity_code)\n",
      "    activity_data = data[cols]\n",
      "    activity_sums = activity_data.sum(axis=1)\n",
      "    data = data[['TUFINLWGT']]\n",
      "    data['minutes'] = activity_sums\n",
      "    data = data.rename(columns={\"TUFINLWGT\": \"weight\"})\n",
      "    data['weighted_minutes'] = data.weight * data.minutes\n",
      "    return data.weighted_minutes.sum() / data.weight.sum()"
     ],
     "language": "python",
     "metadata": {},
     "outputs": [],
     "prompt_number": 17
    },
    {
     "cell_type": "code",
     "collapsed": false,
     "input": [
      "def percentage_of_people(data, activity_code):\n",
      "    \"\"\"Find the percentage of people who spend time doing an activity.\"\"\"\n",
      "    activity_code = \"t{}\".format(activity_code)\n",
      "    if len(data[data[activity_code] > 0]) != 0:\n",
      "        return len(data[data[activity_code] > 0])/len(data) * 100\n",
      "    else:\n",
      "        return 0"
     ],
     "language": "python",
     "metadata": {},
     "outputs": [],
     "prompt_number": 18
    },
    {
     "cell_type": "code",
     "collapsed": false,
     "input": [
      "average_minutes2(adults_with_no_children, \"0101\") / 60"
     ],
     "language": "python",
     "metadata": {},
     "outputs": [
      {
       "output_type": "stream",
       "stream": "stderr",
       "text": [
        "-c:6: SettingWithCopyWarning: \n",
        "A value is trying to be set on a copy of a slice from a DataFrame.\n",
        "Try using .loc[row_indexer,col_indexer] = value instead\n",
        "\n",
        "See the the caveats in the documentation: http://pandas.pydata.org/pandas-docs/stable/indexing.html#indexing-view-versus-copy\n"
       ]
      },
      {
       "metadata": {},
       "output_type": "pyout",
       "prompt_number": 19,
       "text": [
        "8.750853706181001"
       ]
      }
     ],
     "prompt_number": 19
    },
    {
     "cell_type": "code",
     "collapsed": false,
     "input": [
      "average_minutes2(adults_with_no_children, \"01\") / 60"
     ],
     "language": "python",
     "metadata": {},
     "outputs": [
      {
       "metadata": {},
       "output_type": "pyout",
       "prompt_number": 20,
       "text": [
        "9.5541911543273592"
       ]
      }
     ],
     "prompt_number": 20
    },
    {
     "cell_type": "code",
     "collapsed": false,
     "input": [
      "group = summary.groupby([\"TEAGE\", \"TESEX\", \"TRCHILDNUM\"])"
     ],
     "language": "python",
     "metadata": {},
     "outputs": [],
     "prompt_number": 21
    },
    {
     "cell_type": "code",
     "collapsed": false,
     "input": [
      "group.mean().xs(15).xs(1)"
     ],
     "language": "python",
     "metadata": {},
     "outputs": [
      {
       "html": [
        "<div style=\"max-height:1000px;max-width:1500px;overflow:auto;\">\n",
        "<table border=\"1\" class=\"dataframe\">\n",
        "  <thead>\n",
        "    <tr style=\"text-align: right;\">\n",
        "      <th></th>\n",
        "      <th>tucaseid</th>\n",
        "      <th>TUFINLWGT</th>\n",
        "      <th>TRYHHCHILD</th>\n",
        "      <th>PEEDUCA</th>\n",
        "      <th>PTDTRACE</th>\n",
        "      <th>PEHSPNON</th>\n",
        "      <th>GTMETSTA</th>\n",
        "      <th>TELFS</th>\n",
        "      <th>TEMJOT</th>\n",
        "      <th>TRDPFTPT</th>\n",
        "      <th>...</th>\n",
        "      <th>t181501</th>\n",
        "      <th>t181599</th>\n",
        "      <th>t181601</th>\n",
        "      <th>t181801</th>\n",
        "      <th>t189999</th>\n",
        "      <th>t500101</th>\n",
        "      <th>t500103</th>\n",
        "      <th>t500105</th>\n",
        "      <th>t500106</th>\n",
        "      <th>t500107</th>\n",
        "    </tr>\n",
        "    <tr>\n",
        "      <th>TRCHILDNUM</th>\n",
        "      <th></th>\n",
        "      <th></th>\n",
        "      <th></th>\n",
        "      <th></th>\n",
        "      <th></th>\n",
        "      <th></th>\n",
        "      <th></th>\n",
        "      <th></th>\n",
        "      <th></th>\n",
        "      <th></th>\n",
        "      <th></th>\n",
        "      <th></th>\n",
        "      <th></th>\n",
        "      <th></th>\n",
        "      <th></th>\n",
        "      <th></th>\n",
        "      <th></th>\n",
        "      <th></th>\n",
        "      <th></th>\n",
        "      <th></th>\n",
        "      <th></th>\n",
        "    </tr>\n",
        "  </thead>\n",
        "  <tbody>\n",
        "    <tr>\n",
        "      <th>1</th>\n",
        "      <td> 2.013063e+13</td>\n",
        "      <td> 10279004.678881</td>\n",
        "      <td> 15.000000</td>\n",
        "      <td> 35.157895</td>\n",
        "      <td> 1.842105</td>\n",
        "      <td> 1.842105</td>\n",
        "      <td> 1.157895</td>\n",
        "      <td> 4.789474</td>\n",
        "      <td>-0.842105</td>\n",
        "      <td>-0.842105</td>\n",
        "      <td>...</td>\n",
        "      <td> 0</td>\n",
        "      <td> 0</td>\n",
        "      <td> 0</td>\n",
        "      <td> 0</td>\n",
        "      <td> 1.315789</td>\n",
        "      <td> 20.157895</td>\n",
        "      <td> 11.052632</td>\n",
        "      <td> 0</td>\n",
        "      <td>  0</td>\n",
        "      <td> 0</td>\n",
        "    </tr>\n",
        "    <tr>\n",
        "      <th>2</th>\n",
        "      <td> 2.013066e+13</td>\n",
        "      <td>  8094486.932688</td>\n",
        "      <td> 11.733333</td>\n",
        "      <td> 35.133333</td>\n",
        "      <td> 1.133333</td>\n",
        "      <td> 1.800000</td>\n",
        "      <td> 1.066667</td>\n",
        "      <td> 4.666667</td>\n",
        "      <td>-0.800000</td>\n",
        "      <td>-0.800000</td>\n",
        "      <td>...</td>\n",
        "      <td> 3</td>\n",
        "      <td> 0</td>\n",
        "      <td> 0</td>\n",
        "      <td> 0</td>\n",
        "      <td> 0.333333</td>\n",
        "      <td>  1.466667</td>\n",
        "      <td>  0.000000</td>\n",
        "      <td> 0</td>\n",
        "      <td>  0</td>\n",
        "      <td> 0</td>\n",
        "    </tr>\n",
        "    <tr>\n",
        "      <th>3</th>\n",
        "      <td> 2.013056e+13</td>\n",
        "      <td> 13751422.077139</td>\n",
        "      <td>  7.000000</td>\n",
        "      <td> 34.846154</td>\n",
        "      <td> 1.923077</td>\n",
        "      <td> 1.692308</td>\n",
        "      <td> 1.230769</td>\n",
        "      <td> 4.384615</td>\n",
        "      <td>-0.538462</td>\n",
        "      <td>-0.538462</td>\n",
        "      <td>...</td>\n",
        "      <td> 0</td>\n",
        "      <td> 0</td>\n",
        "      <td> 0</td>\n",
        "      <td> 0</td>\n",
        "      <td> 0.000000</td>\n",
        "      <td>  0.000000</td>\n",
        "      <td>  0.000000</td>\n",
        "      <td> 0</td>\n",
        "      <td>  0</td>\n",
        "      <td> 0</td>\n",
        "    </tr>\n",
        "    <tr>\n",
        "      <th>4</th>\n",
        "      <td> 2.013050e+13</td>\n",
        "      <td> 11292383.376507</td>\n",
        "      <td>  5.333333</td>\n",
        "      <td> 33.666667</td>\n",
        "      <td> 1.000000</td>\n",
        "      <td> 2.000000</td>\n",
        "      <td> 1.333333</td>\n",
        "      <td> 3.666667</td>\n",
        "      <td>-0.333333</td>\n",
        "      <td> 0.000000</td>\n",
        "      <td>...</td>\n",
        "      <td> 0</td>\n",
        "      <td> 0</td>\n",
        "      <td> 0</td>\n",
        "      <td> 0</td>\n",
        "      <td> 0.000000</td>\n",
        "      <td>  0.000000</td>\n",
        "      <td>  0.000000</td>\n",
        "      <td> 0</td>\n",
        "      <td> 10</td>\n",
        "      <td> 0</td>\n",
        "    </tr>\n",
        "    <tr>\n",
        "      <th>6</th>\n",
        "      <td> 2.013081e+13</td>\n",
        "      <td>  6890966.927239</td>\n",
        "      <td>  6.000000</td>\n",
        "      <td> 34.000000</td>\n",
        "      <td> 1.000000</td>\n",
        "      <td> 2.000000</td>\n",
        "      <td> 2.000000</td>\n",
        "      <td> 1.000000</td>\n",
        "      <td> 2.000000</td>\n",
        "      <td> 1.000000</td>\n",
        "      <td>...</td>\n",
        "      <td> 0</td>\n",
        "      <td> 0</td>\n",
        "      <td> 0</td>\n",
        "      <td> 0</td>\n",
        "      <td> 0.000000</td>\n",
        "      <td>  0.000000</td>\n",
        "      <td>  0.000000</td>\n",
        "      <td> 0</td>\n",
        "      <td>  0</td>\n",
        "      <td> 0</td>\n",
        "    </tr>\n",
        "  </tbody>\n",
        "</table>\n",
        "<p>5 rows \u00d7 410 columns</p>\n",
        "</div>"
       ],
       "metadata": {},
       "output_type": "pyout",
       "prompt_number": 22,
       "text": [
        "                tucaseid        TUFINLWGT  TRYHHCHILD    PEEDUCA  PTDTRACE  \\\n",
        "TRCHILDNUM                                                                   \n",
        "1           2.013063e+13  10279004.678881   15.000000  35.157895  1.842105   \n",
        "2           2.013066e+13   8094486.932688   11.733333  35.133333  1.133333   \n",
        "3           2.013056e+13  13751422.077139    7.000000  34.846154  1.923077   \n",
        "4           2.013050e+13  11292383.376507    5.333333  33.666667  1.000000   \n",
        "6           2.013081e+13   6890966.927239    6.000000  34.000000  1.000000   \n",
        "\n",
        "            PEHSPNON  GTMETSTA     TELFS    TEMJOT  TRDPFTPT   ...     \\\n",
        "TRCHILDNUM                                                     ...      \n",
        "1           1.842105  1.157895  4.789474 -0.842105 -0.842105   ...      \n",
        "2           1.800000  1.066667  4.666667 -0.800000 -0.800000   ...      \n",
        "3           1.692308  1.230769  4.384615 -0.538462 -0.538462   ...      \n",
        "4           2.000000  1.333333  3.666667 -0.333333  0.000000   ...      \n",
        "6           2.000000  2.000000  1.000000  2.000000  1.000000   ...      \n",
        "\n",
        "            t181501  t181599  t181601  t181801   t189999    t500101  \\\n",
        "TRCHILDNUM                                                            \n",
        "1                 0        0        0        0  1.315789  20.157895   \n",
        "2                 3        0        0        0  0.333333   1.466667   \n",
        "3                 0        0        0        0  0.000000   0.000000   \n",
        "4                 0        0        0        0  0.000000   0.000000   \n",
        "6                 0        0        0        0  0.000000   0.000000   \n",
        "\n",
        "              t500103  t500105  t500106  t500107  \n",
        "TRCHILDNUM                                        \n",
        "1           11.052632        0        0        0  \n",
        "2            0.000000        0        0        0  \n",
        "3            0.000000        0        0        0  \n",
        "4            0.000000        0       10        0  \n",
        "6            0.000000        0        0        0  \n",
        "\n",
        "[5 rows x 410 columns]"
       ]
      }
     ],
     "prompt_number": 22
    },
    {
     "cell_type": "heading",
     "level": 2,
     "metadata": {},
     "source": [
      "Joining files"
     ]
    },
    {
     "cell_type": "code",
     "collapsed": false,
     "input": [
      "respondents = pd.read_csv(\"atusdata/atusresp_2013/atusresp_2013.dat\")\n",
      "activities = pd.read_csv(\"atusdata/atusact_2013/atusact_2013.dat\")"
     ],
     "language": "python",
     "metadata": {},
     "outputs": [],
     "prompt_number": 23
    },
    {
     "cell_type": "code",
     "collapsed": false,
     "input": [
      "merged = pd.merge(respondents, activities, left_on=\"TUCASEID\", right_on=\"TUCASEID\")\n",
      "merged.info()"
     ],
     "language": "python",
     "metadata": {},
     "outputs": [
      {
       "output_type": "stream",
       "stream": "stdout",
       "text": [
        "<class 'pandas.core.frame.DataFrame'>\n",
        "Int64Index: 215576 entries, 0 to 215575\n",
        "Columns: 205 entries, TUCASEID to TXWHERE\n",
        "dtypes: float64(1), int64(200), object(4)\n",
        "memory usage: 338.8+ MB\n"
       ]
      }
     ],
     "prompt_number": 24
    },
    {
     "cell_type": "code",
     "collapsed": false,
     "input": [
      "def age_sample(start_age, end_age):\n",
      "    return summary[summary['TEAGE'].isin(range(start_age, end_age))]\n"
     ],
     "language": "python",
     "metadata": {},
     "outputs": [],
     "prompt_number": 25
    },
    {
     "cell_type": "code",
     "collapsed": false,
     "input": [
      "percentage_of_people(summary, '050101')"
     ],
     "language": "python",
     "metadata": {},
     "outputs": [
      {
       "metadata": {},
       "output_type": "pyout",
       "prompt_number": 26,
       "text": [
        "34.413702239789195"
       ]
      }
     ],
     "prompt_number": 26
    },
    {
     "cell_type": "code",
     "collapsed": false,
     "input": [
      "child_summary = age_sample(0,10)"
     ],
     "language": "python",
     "metadata": {},
     "outputs": [],
     "prompt_number": 27
    },
    {
     "cell_type": "code",
     "collapsed": false,
     "input": [
      "teen_summary = age_sample(10,20)"
     ],
     "language": "python",
     "metadata": {},
     "outputs": [],
     "prompt_number": 28
    },
    {
     "cell_type": "code",
     "collapsed": false,
     "input": [
      "twenties_summary = age_sample(20,30)"
     ],
     "language": "python",
     "metadata": {},
     "outputs": [],
     "prompt_number": 29
    },
    {
     "cell_type": "code",
     "collapsed": false,
     "input": [
      "thirties_summary = age_sample(30,40)"
     ],
     "language": "python",
     "metadata": {},
     "outputs": [],
     "prompt_number": 30
    },
    {
     "cell_type": "code",
     "collapsed": false,
     "input": [
      "forties_summary = age_sample(40,50)"
     ],
     "language": "python",
     "metadata": {},
     "outputs": [],
     "prompt_number": 31
    },
    {
     "cell_type": "code",
     "collapsed": false,
     "input": [
      "fifties_summary = age_sample(50,60)"
     ],
     "language": "python",
     "metadata": {},
     "outputs": [],
     "prompt_number": 32
    },
    {
     "cell_type": "code",
     "collapsed": false,
     "input": [
      "sixties_summary = age_sample(60,70)"
     ],
     "language": "python",
     "metadata": {},
     "outputs": [],
     "prompt_number": 33
    },
    {
     "cell_type": "code",
     "collapsed": false,
     "input": [
      "seventy_plus_summary = age_sample(70,120)"
     ],
     "language": "python",
     "metadata": {},
     "outputs": [],
     "prompt_number": 34
    },
    {
     "cell_type": "code",
     "collapsed": false,
     "input": [
      "all_ages_list = [teen_summary, twenties_summary, thirties_summary, forties_summary,\n",
      "                 fifties_summary, sixties_summary, seventy_plus_summary]"
     ],
     "language": "python",
     "metadata": {},
     "outputs": [],
     "prompt_number": 46
    },
    {
     "cell_type": "code",
     "collapsed": false,
     "input": [
      "def find_percent_by_age(activity_code):\n",
      "    \"\"\"Returns the percentage of people from each age range who engaged on the particular activity\"\"\"\n",
      "    return [percentage_of_people(age, activity_code) for age in all_ages_list]"
     ],
     "language": "python",
     "metadata": {},
     "outputs": [],
     "prompt_number": 47
    },
    {
     "cell_type": "code",
     "collapsed": false,
     "input": [
      "smokers_by_age = find_percent_by_age('120302')"
     ],
     "language": "python",
     "metadata": {},
     "outputs": [],
     "prompt_number": 48
    },
    {
     "cell_type": "code",
     "collapsed": false,
     "input": [
      "print([x for x in range(10, 70, 10)])"
     ],
     "language": "python",
     "metadata": {},
     "outputs": [
      {
       "output_type": "stream",
       "stream": "stdout",
       "text": [
        "[10, 20, 30, 40, 50, 60]\n"
       ]
      }
     ],
     "prompt_number": 51
    },
    {
     "cell_type": "markdown",
     "metadata": {},
     "source": [
      "The following graphs find the percentage of people for each age range who reported more than 0 minutes spent on an activity."
     ]
    },
    {
     "cell_type": "heading",
     "level": 1,
     "metadata": {},
     "source": [
      "Percent of smokers by age"
     ]
    },
    {
     "cell_type": "code",
     "collapsed": false,
     "input": [
      "plt.plot(smokers_by_age)\n",
      "plt.ylabel('percent')\n",
      "plt.xlabel('age')\n",
      "plt.xticks(range(6), range(10, 70, 10))\n",
      "plt.show()"
     ],
     "language": "python",
     "metadata": {},
     "outputs": [
      {
       "metadata": {},
       "output_type": "display_data",
       "png": "[encoded data removed]",
       "text": [
        "<matplotlib.figure.Figure at 0x1135a08d0>"
       ]
      }
     ],
     "prompt_number": 67
    },
    {
     "cell_type": "code",
     "collapsed": false,
     "input": [
      "computer_use = find_percent_by_age(\"120308\")"
     ],
     "language": "python",
     "metadata": {},
     "outputs": [],
     "prompt_number": 54
    },
    {
     "cell_type": "code",
     "collapsed": false,
     "input": [
      "tv_use = find_percent_by_age('120303')"
     ],
     "language": "python",
     "metadata": {},
     "outputs": [],
     "prompt_number": 55
    },
    {
     "cell_type": "code",
     "collapsed": false,
     "input": [
      "playing_games = find_percent_by_age('120307')"
     ],
     "language": "python",
     "metadata": {},
     "outputs": [],
     "prompt_number": 56
    },
    {
     "cell_type": "heading",
     "level": 1,
     "metadata": {},
     "source": [
      "Computer use by age"
     ]
    },
    {
     "cell_type": "code",
     "collapsed": false,
     "input": [
      "plt.plot(computer_use)\n",
      "plt.ylabel('percent')\n",
      "plt.xlabel('age')\n",
      "plt.xticks(range(6), range(10, 70, 10))\n",
      "plt.show()"
     ],
     "language": "python",
     "metadata": {},
     "outputs": [
      {
       "metadata": {},
       "output_type": "display_data",
       "png": "[encoded data removed]",
       "text": [
        "<matplotlib.figure.Figure at 0x10d7e17b8>"
       ]
      }
     ],
     "prompt_number": 57
    },
    {
     "cell_type": "heading",
     "level": 1,
     "metadata": {},
     "source": [
      "TV use by age"
     ]
    },
    {
     "cell_type": "code",
     "collapsed": false,
     "input": [
      "plt.plot(tv_use)\n",
      "plt.ylabel('percent')\n",
      "plt.xlabel('age')\n",
      "plt.xticks(range(7), range(10, 70, 10))\n",
      "plt.show()"
     ],
     "language": "python",
     "metadata": {},
     "outputs": [
      {
       "metadata": {},
       "output_type": "display_data",
       "png": "[encoded data removed]",
       "text": [
        "<matplotlib.figure.Figure at 0x10d778668>"
       ]
      }
     ],
     "prompt_number": 62
    },
    {
     "cell_type": "heading",
     "level": 1,
     "metadata": {},
     "source": [
      "Playing games by age"
     ]
    },
    {
     "cell_type": "code",
     "collapsed": false,
     "input": [
      "plt.plot(playing_games)\n",
      "plt.ylabel('percent')\n",
      "plt.xlabel('age')\n",
      "plt.xticks(range(7), range(10, 70, 10))\n",
      "plt.show()"
     ],
     "language": "python",
     "metadata": {},
     "outputs": [
      {
       "metadata": {},
       "output_type": "display_data",
       "png": "[encoded data removed]",
       "text": [
        "<matplotlib.figure.Figure at 0x10fff46a0>"
       ]
      }
     ],
     "prompt_number": 63
    },
    {
     "cell_type": "code",
     "collapsed": false,
     "input": [],
     "language": "python",
     "metadata": {},
     "outputs": []
    }
   ],
   "metadata": {}
  }
 ]
}