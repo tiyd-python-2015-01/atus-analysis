{
 "metadata": {
  "name": "",
  "signature": "sha256:85e84ca7cfa86899eedd8e26e6673447137d1035b4dcceabb335d869e305e027"
 },
 "nbformat": 3,
 "nbformat_minor": 0,
 "worksheets": [
  {
   "cells": [
    {
     "cell_type": "code",
     "collapsed": false,
     "input": [
      "import pandas as pd\n",
      "import re\n",
      "import seaborn as sb"
     ],
     "language": "python",
     "metadata": {},
     "outputs": [],
     "prompt_number": 10
    },
    {
     "cell_type": "code",
     "collapsed": false,
     "input": [
      "import matplotlib.pyplot as plt"
     ],
     "language": "python",
     "metadata": {},
     "outputs": [],
     "prompt_number": 11
    },
    {
     "cell_type": "code",
     "collapsed": false,
     "input": [
      "%matplotlib inline"
     ],
     "language": "python",
     "metadata": {},
     "outputs": [],
     "prompt_number": 12
    },
    {
     "cell_type": "code",
     "collapsed": false,
     "input": [
      "summary = pd.read_csv(\"atusdata/atussum_2013/atussum_2013.dat\")\n",
      "summary.info()"
     ],
     "language": "python",
     "metadata": {},
     "outputs": [
      {
       "output_type": "stream",
       "stream": "stdout",
       "text": [
        "<class 'pandas.core.frame.DataFrame'>\n",
        "Int64Index: 11385 entries, 0 to 11384\n",
        "Columns: 413 entries, tucaseid to t500107\n",
        "dtypes: float64(1), int64(412)\n",
        "memory usage: 36.0 MB\n"
       ]
      }
     ],
     "prompt_number": 13
    },
    {
     "cell_type": "markdown",
     "metadata": {},
     "source": [
      "Pertinent columns:\n",
      "\n",
      "* TUFINLWGT - statistical weight of respondent\n",
      "* TRYHHCHILD - age of youngest child in household Range 0-17\n",
      "* TEAGE - age of respondent\n",
      "* TESEX - sex of respondent\n",
      "* TELFS - working status of respondent 1=Employed@work 2=Employed absent 3=unemp layoff 4=unemp looking 5= not in labor force\n",
      "* TRCHILDNUM - number of children in household - Range 0-30\n",
      "* TESCHENR - Enrolled in high school or college/univ 1=yes 2=no\n",
      "* TESCHLVL - School Level - 1=HS 2=College\n",
      "* TUDIARYDAY - day of the week in about which respondent was interviewed... 1=Sunday 7=Saturday"
     ]
    },
    {
     "cell_type": "code",
     "collapsed": false,
     "input": [
      "summary.head()"
     ],
     "language": "python",
     "metadata": {},
     "outputs": [
      {
       "html": [
        "<div style=\"max-height:1000px;max-width:1500px;overflow:auto;\">\n",
        "<table border=\"1\" class=\"dataframe\">\n",
        "  <thead>\n",
        "    <tr style=\"text-align: right;\">\n",
        "      <th></th>\n",
        "      <th>tucaseid</th>\n",
        "      <th>TUFINLWGT</th>\n",
        "      <th>TRYHHCHILD</th>\n",
        "      <th>TEAGE</th>\n",
        "      <th>TESEX</th>\n",
        "      <th>PEEDUCA</th>\n",
        "      <th>PTDTRACE</th>\n",
        "      <th>PEHSPNON</th>\n",
        "      <th>GTMETSTA</th>\n",
        "      <th>TELFS</th>\n",
        "      <th>...</th>\n",
        "      <th>t181501</th>\n",
        "      <th>t181599</th>\n",
        "      <th>t181601</th>\n",
        "      <th>t181801</th>\n",
        "      <th>t189999</th>\n",
        "      <th>t500101</th>\n",
        "      <th>t500103</th>\n",
        "      <th>t500105</th>\n",
        "      <th>t500106</th>\n",
        "      <th>t500107</th>\n",
        "    </tr>\n",
        "  </thead>\n",
        "  <tbody>\n",
        "    <tr>\n",
        "      <th>0</th>\n",
        "      <td> 20130101130004</td>\n",
        "      <td> 11899905.662034</td>\n",
        "      <td> 12</td>\n",
        "      <td> 22</td>\n",
        "      <td> 2</td>\n",
        "      <td> 40</td>\n",
        "      <td> 8</td>\n",
        "      <td> 2</td>\n",
        "      <td> 1</td>\n",
        "      <td> 5</td>\n",
        "      <td>...</td>\n",
        "      <td>  0</td>\n",
        "      <td> 0</td>\n",
        "      <td> 0</td>\n",
        "      <td> 0</td>\n",
        "      <td> 0</td>\n",
        "      <td> 0</td>\n",
        "      <td> 0</td>\n",
        "      <td> 0</td>\n",
        "      <td> 0</td>\n",
        "      <td> 0</td>\n",
        "    </tr>\n",
        "    <tr>\n",
        "      <th>1</th>\n",
        "      <td> 20130101130112</td>\n",
        "      <td>  4447638.009513</td>\n",
        "      <td>  1</td>\n",
        "      <td> 39</td>\n",
        "      <td> 1</td>\n",
        "      <td> 43</td>\n",
        "      <td> 1</td>\n",
        "      <td> 2</td>\n",
        "      <td> 1</td>\n",
        "      <td> 1</td>\n",
        "      <td>...</td>\n",
        "      <td>  0</td>\n",
        "      <td> 0</td>\n",
        "      <td> 0</td>\n",
        "      <td> 0</td>\n",
        "      <td> 0</td>\n",
        "      <td> 0</td>\n",
        "      <td> 0</td>\n",
        "      <td> 0</td>\n",
        "      <td> 0</td>\n",
        "      <td> 0</td>\n",
        "    </tr>\n",
        "    <tr>\n",
        "      <th>2</th>\n",
        "      <td> 20130101130123</td>\n",
        "      <td> 10377056.507734</td>\n",
        "      <td> -1</td>\n",
        "      <td> 47</td>\n",
        "      <td> 2</td>\n",
        "      <td> 40</td>\n",
        "      <td> 1</td>\n",
        "      <td> 2</td>\n",
        "      <td> 1</td>\n",
        "      <td> 4</td>\n",
        "      <td>...</td>\n",
        "      <td> 25</td>\n",
        "      <td> 0</td>\n",
        "      <td> 0</td>\n",
        "      <td> 0</td>\n",
        "      <td> 0</td>\n",
        "      <td> 0</td>\n",
        "      <td> 0</td>\n",
        "      <td> 0</td>\n",
        "      <td> 0</td>\n",
        "      <td> 0</td>\n",
        "    </tr>\n",
        "    <tr>\n",
        "      <th>3</th>\n",
        "      <td> 20130101130611</td>\n",
        "      <td>  7731257.992805</td>\n",
        "      <td> -1</td>\n",
        "      <td> 50</td>\n",
        "      <td> 2</td>\n",
        "      <td> 40</td>\n",
        "      <td> 1</td>\n",
        "      <td> 1</td>\n",
        "      <td> 1</td>\n",
        "      <td> 1</td>\n",
        "      <td>...</td>\n",
        "      <td>  0</td>\n",
        "      <td> 0</td>\n",
        "      <td> 0</td>\n",
        "      <td> 0</td>\n",
        "      <td> 0</td>\n",
        "      <td> 0</td>\n",
        "      <td> 0</td>\n",
        "      <td> 0</td>\n",
        "      <td> 0</td>\n",
        "      <td> 0</td>\n",
        "    </tr>\n",
        "    <tr>\n",
        "      <th>4</th>\n",
        "      <td> 20130101130616</td>\n",
        "      <td>  4725269.227067</td>\n",
        "      <td> -1</td>\n",
        "      <td> 45</td>\n",
        "      <td> 2</td>\n",
        "      <td> 40</td>\n",
        "      <td> 2</td>\n",
        "      <td> 2</td>\n",
        "      <td> 1</td>\n",
        "      <td> 1</td>\n",
        "      <td>...</td>\n",
        "      <td>  0</td>\n",
        "      <td> 0</td>\n",
        "      <td> 0</td>\n",
        "      <td> 0</td>\n",
        "      <td> 0</td>\n",
        "      <td> 0</td>\n",
        "      <td> 0</td>\n",
        "      <td> 0</td>\n",
        "      <td> 0</td>\n",
        "      <td> 0</td>\n",
        "    </tr>\n",
        "  </tbody>\n",
        "</table>\n",
        "<p>5 rows \u00d7 413 columns</p>\n",
        "</div>"
       ],
       "metadata": {},
       "output_type": "pyout",
       "prompt_number": 14,
       "text": [
        "         tucaseid        TUFINLWGT  TRYHHCHILD  TEAGE  TESEX  PEEDUCA  \\\n",
        "0  20130101130004  11899905.662034          12     22      2       40   \n",
        "1  20130101130112   4447638.009513           1     39      1       43   \n",
        "2  20130101130123  10377056.507734          -1     47      2       40   \n",
        "3  20130101130611   7731257.992805          -1     50      2       40   \n",
        "4  20130101130616   4725269.227067          -1     45      2       40   \n",
        "\n",
        "   PTDTRACE  PEHSPNON  GTMETSTA  TELFS   ...     t181501  t181599  t181601  \\\n",
        "0         8         2         1      5   ...           0        0        0   \n",
        "1         1         2         1      1   ...           0        0        0   \n",
        "2         1         2         1      4   ...          25        0        0   \n",
        "3         1         1         1      1   ...           0        0        0   \n",
        "4         2         2         1      1   ...           0        0        0   \n",
        "\n",
        "   t181801  t189999  t500101  t500103  t500105  t500106  t500107  \n",
        "0        0        0        0        0        0        0        0  \n",
        "1        0        0        0        0        0        0        0  \n",
        "2        0        0        0        0        0        0        0  \n",
        "3        0        0        0        0        0        0        0  \n",
        "4        0        0        0        0        0        0        0  \n",
        "\n",
        "[5 rows x 413 columns]"
       ]
      }
     ],
     "prompt_number": 14
    },
    {
     "cell_type": "heading",
     "level": 1,
     "metadata": {},
     "source": [
      "Filters"
     ]
    },
    {
     "cell_type": "code",
     "collapsed": false,
     "input": [
      "male = (summary.TESEX == 1)\n",
      "female = (summary.TESEX == 2)\n",
      "\n",
      "adults_all = (summary.TEAGE >= 18)\n",
      "adults_20 = (summary.TEAGE.isin(range(20,30)))\n",
      "adults_30 = (summary.TEAGE.isin(range(30,40)))\n",
      "adults_40 = (summary.TEAGE.isin(range(40,50)))\n",
      "adults_50 = (summary.TEAGE.isin(range(50,60)))\n",
      "adults_60 = (summary.TEAGE >= 60)\n",
      "adults_20_60 = (summary.TEAGE.isin(range(20,61)))\n",
      "\n",
      "adults_no_kids = (summary.TRCHILDNUM == 0)\n",
      "adults_any_kids = (summary.TRCHILDNUM >= 1)\n",
      "adults_one_kid = (summary.TRCHILDNUM == 1)\n",
      "adults_two_kids = (summary.TRCHILDNUM == 2)\n",
      "adults_onetwo_kids = (summary.TRCHILDNUM.isin(range(1,3)))\n",
      "adults_threeplus_kids = (summary.TRCHILDNUM >2)\n",
      "adults_any_kids = (summary.TRCHILDNUM >= 1)\n",
      "\n",
      "young_kid = (summary.TRYHHCHILD >= 10)\n",
      "\n",
      "weekdays = (summary.TUDIARYDAY.isin(range(2,7)))\n",
      "saturday = (summary.TUDIARYDAY == 7)\n",
      "sunday = (summary.TUDIARYDAY == 1)\n",
      "\n",
      "unemployed = (summary.TELFS.isin(range(3,5)))\n",
      "employed = (summary.TELFS.isin(range(1,3)))"
     ],
     "language": "python",
     "metadata": {},
     "outputs": [],
     "prompt_number": 64
    },
    {
     "cell_type": "code",
     "collapsed": false,
     "input": [
      "def age_range(start, stop):\n",
      "    return summary[summary['TEAGE'].isin(range(start, stop))]"
     ],
     "language": "python",
     "metadata": {},
     "outputs": [],
     "prompt_number": 16
    },
    {
     "cell_type": "code",
     "collapsed": false,
     "input": [
      "def get_max_record(data):\n",
      "    return data.ix[data.idxmax()]\n",
      "\n",
      "get_max_record(summary.TEAGE)"
     ],
     "language": "python",
     "metadata": {},
     "outputs": [
      {
       "metadata": {},
       "output_type": "pyout",
       "prompt_number": 17,
       "text": [
        "85"
       ]
      }
     ],
     "prompt_number": 17
    },
    {
     "cell_type": "heading",
     "level": 1,
     "metadata": {},
     "source": [
      "Oldest, Youngest, and Mean Age of all surveyed"
     ]
    },
    {
     "cell_type": "code",
     "collapsed": false,
     "input": [
      "print(summary.TEAGE.max())#Oldest person surveyed\n",
      "print(summary.TEAGE.min())#Youngest person surveyed\n",
      "print(summary.TEAGE.mean())#Mean age of all surveyed\n"
     ],
     "language": "python",
     "metadata": {},
     "outputs": [
      {
       "output_type": "stream",
       "stream": "stdout",
       "text": [
        "85\n",
        "15\n",
        "48.2798418972\n"
       ]
      }
     ],
     "prompt_number": 18
    },
    {
     "cell_type": "heading",
     "level": 3,
     "metadata": {},
     "source": [
      "Oldest Person is 85, Youngest Person is 15, and the Mean Age is 48"
     ]
    },
    {
     "cell_type": "code",
     "collapsed": false,
     "input": [
      "summary.TEAGE.describe()"
     ],
     "language": "python",
     "metadata": {},
     "outputs": [
      {
       "metadata": {},
       "output_type": "pyout",
       "prompt_number": 19,
       "text": [
        "count    11385.000000\n",
        "mean        48.279842\n",
        "std         17.909707\n",
        "min         15.000000\n",
        "25%         34.000000\n",
        "50%         48.000000\n",
        "75%         62.000000\n",
        "max         85.000000\n",
        "Name: TEAGE, dtype: float64"
       ]
      }
     ],
     "prompt_number": 19
    },
    {
     "cell_type": "heading",
     "level": 1,
     "metadata": {},
     "source": [
      "Which Diary  Day was used the most in the Interviews"
     ]
    },
    {
     "cell_type": "heading",
     "level": 3,
     "metadata": {},
     "source": [
      "Since its a leisure study, it makes sense that half of the survey would focus on the two weekend days, but I also think that might skew some of the results on topics like Government Services, Work Related Activities, and Education"
     ]
    },
    {
     "cell_type": "code",
     "collapsed": false,
     "input": [
      "days = summary[\"TUDIARYDAY\"].value_counts()\n",
      "print(days)\n",
      "weekday = {1: \"Sun\", 2: \"Mon\", 3: \"Tues\", 4: \"Weds\", 5: \"Thurs\", 6: \"Fri\", 7: \"Sat\"}\n",
      "pd.DataFrame(days).sort_index().T.rename(columns = weekday).T.plot(kind='pie', colors=['r', 'g', 'b', 'c', 'y', 'm', 'orange'],subplots=True, legend=True, autopct='%.2f', fontsize=20, figsize=(10, 10))"
     ],
     "language": "python",
     "metadata": {},
     "outputs": [
      {
       "output_type": "stream",
       "stream": "stdout",
       "text": [
        "1    2974\n",
        "7    2709\n",
        "4    1202\n",
        "2    1152\n",
        "6    1147\n",
        "3    1102\n",
        "5    1099\n",
        "dtype: int64\n"
       ]
      },
      {
       "metadata": {},
       "output_type": "pyout",
       "prompt_number": 20,
       "text": [
        "array([<matplotlib.axes._subplots.AxesSubplot object at 0x10a252cf8>], dtype=object)"
       ]
      },
      {
       "metadata": {},
       "output_type": "display_data",
       "png": "[encoded data removed]",
       "text": [
        "<matplotlib.figure.Figure at 0x10a257780>"
       ]
      }
     ],
     "prompt_number": 20
    },
    {
     "cell_type": "heading",
     "level": 1,
     "metadata": {},
     "source": [
      "Gender Split across the whole survey"
     ]
    },
    {
     "cell_type": "heading",
     "level": 3,
     "metadata": {},
     "source": [
      "Im a little suprised the split isn't closer to 50/50"
     ]
    },
    {
     "cell_type": "code",
     "collapsed": false,
     "input": [
      "gender = summary[\"TESEX\"].value_counts()\n",
      "print(gender)\n",
      "gender_dict = {1: \"Male\", 2: \"Female\"}\n",
      "pd.DataFrame(gender).sort_index().T.rename(columns = gender_dict).T.plot(kind='pie', colors=['b', 'r',], subplots=True, legend=True, autopct='%.2f', fontsize=20, figsize=(7, 7))"
     ],
     "language": "python",
     "metadata": {},
     "outputs": [
      {
       "output_type": "stream",
       "stream": "stdout",
       "text": [
        "2    6303\n",
        "1    5082\n",
        "dtype: int64\n"
       ]
      },
      {
       "metadata": {},
       "output_type": "pyout",
       "prompt_number": 21,
       "text": [
        "array([<matplotlib.axes._subplots.AxesSubplot object at 0x10a0572e8>], dtype=object)"
       ]
      },
      {
       "metadata": {},
       "output_type": "display_data",
       "png": "[encoded data removed]",
       "text": [
        "<matplotlib.figure.Figure at 0x10a257080>"
       ]
      }
     ],
     "prompt_number": 21
    },
    {
     "cell_type": "heading",
     "level": 1,
     "metadata": {},
     "source": [
      "Number of Household Children splits"
     ]
    },
    {
     "cell_type": "code",
     "collapsed": false,
     "input": [
      "#Person who had the most children in their household....\n",
      "\n",
      "print(summary.TRCHILDNUM.max())\n",
      "#print(summary.TRCHILDNUM.idxmax())"
     ],
     "language": "python",
     "metadata": {},
     "outputs": [
      {
       "output_type": "stream",
       "stream": "stdout",
       "text": [
        "10\n"
       ]
      }
     ],
     "prompt_number": 22
    },
    {
     "cell_type": "code",
     "collapsed": false,
     "input": [
      "kid_count = summary[\"TRCHILDNUM\"].value_counts()\n",
      "print(kid_count)\n",
      "kid_count.plot(kind=\"pie\", figsize=(7, 7))"
     ],
     "language": "python",
     "metadata": {},
     "outputs": [
      {
       "output_type": "stream",
       "stream": "stdout",
       "text": [
        "0     6481\n",
        "1     2070\n",
        "2     1859\n",
        "3      682\n",
        "4      225\n",
        "5       39\n",
        "6       15\n",
        "7       11\n",
        "9        2\n",
        "10       1\n",
        "dtype: int64\n"
       ]
      },
      {
       "metadata": {},
       "output_type": "pyout",
       "prompt_number": 23,
       "text": [
        "<matplotlib.axes._subplots.AxesSubplot at 0x10a07e518>"
       ]
      },
      {
       "metadata": {},
       "output_type": "display_data",
       "png": "[encoded data removed]",
       "text": [
        "<matplotlib.figure.Figure at 0x10a087d30>"
       ]
      }
     ],
     "prompt_number": 23
    },
    {
     "cell_type": "code",
     "collapsed": false,
     "input": [
      "adults_with_no_children = summary[adults_all & adults_no_kids]\n",
      "adults_with_no_children.info()\n",
      "adults_with_no_children.head()"
     ],
     "language": "python",
     "metadata": {},
     "outputs": [
      {
       "output_type": "stream",
       "stream": "stdout",
       "text": [
        "<class 'pandas.core.frame.DataFrame'>\n",
        "Int64Index: 6481 entries, 2 to 11381\n",
        "Columns: 413 entries, tucaseid to t500107\n",
        "dtypes: float64(1), int64(412)\n",
        "memory usage: 20.5 MB\n"
       ]
      },
      {
       "html": [
        "<div style=\"max-height:1000px;max-width:1500px;overflow:auto;\">\n",
        "<table border=\"1\" class=\"dataframe\">\n",
        "  <thead>\n",
        "    <tr style=\"text-align: right;\">\n",
        "      <th></th>\n",
        "      <th>tucaseid</th>\n",
        "      <th>TUFINLWGT</th>\n",
        "      <th>TRYHHCHILD</th>\n",
        "      <th>TEAGE</th>\n",
        "      <th>TESEX</th>\n",
        "      <th>PEEDUCA</th>\n",
        "      <th>PTDTRACE</th>\n",
        "      <th>PEHSPNON</th>\n",
        "      <th>GTMETSTA</th>\n",
        "      <th>TELFS</th>\n",
        "      <th>...</th>\n",
        "      <th>t181501</th>\n",
        "      <th>t181599</th>\n",
        "      <th>t181601</th>\n",
        "      <th>t181801</th>\n",
        "      <th>t189999</th>\n",
        "      <th>t500101</th>\n",
        "      <th>t500103</th>\n",
        "      <th>t500105</th>\n",
        "      <th>t500106</th>\n",
        "      <th>t500107</th>\n",
        "    </tr>\n",
        "  </thead>\n",
        "  <tbody>\n",
        "    <tr>\n",
        "      <th>2</th>\n",
        "      <td> 20130101130123</td>\n",
        "      <td> 10377056.507734</td>\n",
        "      <td>-1</td>\n",
        "      <td> 47</td>\n",
        "      <td> 2</td>\n",
        "      <td> 40</td>\n",
        "      <td> 1</td>\n",
        "      <td> 2</td>\n",
        "      <td> 1</td>\n",
        "      <td> 4</td>\n",
        "      <td>...</td>\n",
        "      <td> 25</td>\n",
        "      <td> 0</td>\n",
        "      <td> 0</td>\n",
        "      <td> 0</td>\n",
        "      <td> 0</td>\n",
        "      <td> 0</td>\n",
        "      <td> 0</td>\n",
        "      <td> 0</td>\n",
        "      <td> 0</td>\n",
        "      <td> 0</td>\n",
        "    </tr>\n",
        "    <tr>\n",
        "      <th>3</th>\n",
        "      <td> 20130101130611</td>\n",
        "      <td>  7731257.992805</td>\n",
        "      <td>-1</td>\n",
        "      <td> 50</td>\n",
        "      <td> 2</td>\n",
        "      <td> 40</td>\n",
        "      <td> 1</td>\n",
        "      <td> 1</td>\n",
        "      <td> 1</td>\n",
        "      <td> 1</td>\n",
        "      <td>...</td>\n",
        "      <td>  0</td>\n",
        "      <td> 0</td>\n",
        "      <td> 0</td>\n",
        "      <td> 0</td>\n",
        "      <td> 0</td>\n",
        "      <td> 0</td>\n",
        "      <td> 0</td>\n",
        "      <td> 0</td>\n",
        "      <td> 0</td>\n",
        "      <td> 0</td>\n",
        "    </tr>\n",
        "    <tr>\n",
        "      <th>4</th>\n",
        "      <td> 20130101130616</td>\n",
        "      <td>  4725269.227067</td>\n",
        "      <td>-1</td>\n",
        "      <td> 45</td>\n",
        "      <td> 2</td>\n",
        "      <td> 40</td>\n",
        "      <td> 2</td>\n",
        "      <td> 2</td>\n",
        "      <td> 1</td>\n",
        "      <td> 1</td>\n",
        "      <td>...</td>\n",
        "      <td>  0</td>\n",
        "      <td> 0</td>\n",
        "      <td> 0</td>\n",
        "      <td> 0</td>\n",
        "      <td> 0</td>\n",
        "      <td> 0</td>\n",
        "      <td> 0</td>\n",
        "      <td> 0</td>\n",
        "      <td> 0</td>\n",
        "      <td> 0</td>\n",
        "    </tr>\n",
        "    <tr>\n",
        "      <th>5</th>\n",
        "      <td> 20130101130619</td>\n",
        "      <td>  2372791.046351</td>\n",
        "      <td>-1</td>\n",
        "      <td> 80</td>\n",
        "      <td> 2</td>\n",
        "      <td> 38</td>\n",
        "      <td> 1</td>\n",
        "      <td> 2</td>\n",
        "      <td> 1</td>\n",
        "      <td> 5</td>\n",
        "      <td>...</td>\n",
        "      <td>  0</td>\n",
        "      <td> 0</td>\n",
        "      <td> 0</td>\n",
        "      <td> 0</td>\n",
        "      <td> 0</td>\n",
        "      <td> 0</td>\n",
        "      <td> 0</td>\n",
        "      <td> 0</td>\n",
        "      <td> 0</td>\n",
        "      <td> 0</td>\n",
        "    </tr>\n",
        "    <tr>\n",
        "      <th>6</th>\n",
        "      <td> 20130101130658</td>\n",
        "      <td>  5671341.270490</td>\n",
        "      <td>-1</td>\n",
        "      <td> 72</td>\n",
        "      <td> 1</td>\n",
        "      <td> 42</td>\n",
        "      <td> 1</td>\n",
        "      <td> 1</td>\n",
        "      <td> 1</td>\n",
        "      <td> 5</td>\n",
        "      <td>...</td>\n",
        "      <td>  0</td>\n",
        "      <td> 0</td>\n",
        "      <td> 5</td>\n",
        "      <td> 0</td>\n",
        "      <td> 0</td>\n",
        "      <td> 0</td>\n",
        "      <td> 0</td>\n",
        "      <td> 0</td>\n",
        "      <td> 0</td>\n",
        "      <td> 0</td>\n",
        "    </tr>\n",
        "  </tbody>\n",
        "</table>\n",
        "<p>5 rows \u00d7 413 columns</p>\n",
        "</div>"
       ],
       "metadata": {},
       "output_type": "pyout",
       "prompt_number": 24,
       "text": [
        "         tucaseid        TUFINLWGT  TRYHHCHILD  TEAGE  TESEX  PEEDUCA  \\\n",
        "2  20130101130123  10377056.507734          -1     47      2       40   \n",
        "3  20130101130611   7731257.992805          -1     50      2       40   \n",
        "4  20130101130616   4725269.227067          -1     45      2       40   \n",
        "5  20130101130619   2372791.046351          -1     80      2       38   \n",
        "6  20130101130658   5671341.270490          -1     72      1       42   \n",
        "\n",
        "   PTDTRACE  PEHSPNON  GTMETSTA  TELFS   ...     t181501  t181599  t181601  \\\n",
        "2         1         2         1      4   ...          25        0        0   \n",
        "3         1         1         1      1   ...           0        0        0   \n",
        "4         2         2         1      1   ...           0        0        0   \n",
        "5         1         2         1      5   ...           0        0        0   \n",
        "6         1         1         1      5   ...           0        0        5   \n",
        "\n",
        "   t181801  t189999  t500101  t500103  t500105  t500106  t500107  \n",
        "2        0        0        0        0        0        0        0  \n",
        "3        0        0        0        0        0        0        0  \n",
        "4        0        0        0        0        0        0        0  \n",
        "5        0        0        0        0        0        0        0  \n",
        "6        0        0        0        0        0        0        0  \n",
        "\n",
        "[5 rows x 413 columns]"
       ]
      }
     ],
     "prompt_number": 24
    },
    {
     "cell_type": "code",
     "collapsed": false,
     "input": [
      "data = adults_with_no_children[['TUFINLWGT', 't120303']]\n",
      "data = data.rename(columns={\"TUFINLWGT\": \"weight\", \"t120303\": \"minutes\"})\n",
      "data.head()"
     ],
     "language": "python",
     "metadata": {},
     "outputs": [
      {
       "html": [
        "<div style=\"max-height:1000px;max-width:1500px;overflow:auto;\">\n",
        "<table border=\"1\" class=\"dataframe\">\n",
        "  <thead>\n",
        "    <tr style=\"text-align: right;\">\n",
        "      <th></th>\n",
        "      <th>weight</th>\n",
        "      <th>minutes</th>\n",
        "    </tr>\n",
        "  </thead>\n",
        "  <tbody>\n",
        "    <tr>\n",
        "      <th>2</th>\n",
        "      <td> 10377056.507734</td>\n",
        "      <td>  60</td>\n",
        "    </tr>\n",
        "    <tr>\n",
        "      <th>3</th>\n",
        "      <td>  7731257.992805</td>\n",
        "      <td>  65</td>\n",
        "    </tr>\n",
        "    <tr>\n",
        "      <th>4</th>\n",
        "      <td>  4725269.227067</td>\n",
        "      <td>  90</td>\n",
        "    </tr>\n",
        "    <tr>\n",
        "      <th>5</th>\n",
        "      <td>  2372791.046351</td>\n",
        "      <td> 270</td>\n",
        "    </tr>\n",
        "    <tr>\n",
        "      <th>6</th>\n",
        "      <td>  5671341.270490</td>\n",
        "      <td> 244</td>\n",
        "    </tr>\n",
        "  </tbody>\n",
        "</table>\n",
        "</div>"
       ],
       "metadata": {},
       "output_type": "pyout",
       "prompt_number": 25,
       "text": [
        "            weight  minutes\n",
        "2  10377056.507734       60\n",
        "3   7731257.992805       65\n",
        "4   4725269.227067       90\n",
        "5   2372791.046351      270\n",
        "6   5671341.270490      244"
       ]
      }
     ],
     "prompt_number": 25
    },
    {
     "cell_type": "code",
     "collapsed": false,
     "input": [
      "data['weighted_minutes'] = data.weight * data.minutes\n",
      "#this created a new column \"weighted minutes\" and filled it with the results of the operation"
     ],
     "language": "python",
     "metadata": {},
     "outputs": [],
     "prompt_number": 26
    },
    {
     "cell_type": "code",
     "collapsed": false,
     "input": [
      "data.head()"
     ],
     "language": "python",
     "metadata": {},
     "outputs": [
      {
       "html": [
        "<div style=\"max-height:1000px;max-width:1500px;overflow:auto;\">\n",
        "<table border=\"1\" class=\"dataframe\">\n",
        "  <thead>\n",
        "    <tr style=\"text-align: right;\">\n",
        "      <th></th>\n",
        "      <th>weight</th>\n",
        "      <th>minutes</th>\n",
        "      <th>weighted_minutes</th>\n",
        "    </tr>\n",
        "  </thead>\n",
        "  <tbody>\n",
        "    <tr>\n",
        "      <th>2</th>\n",
        "      <td> 10377056.507734</td>\n",
        "      <td>  60</td>\n",
        "      <td> 6.226234e+08</td>\n",
        "    </tr>\n",
        "    <tr>\n",
        "      <th>3</th>\n",
        "      <td>  7731257.992805</td>\n",
        "      <td>  65</td>\n",
        "      <td> 5.025318e+08</td>\n",
        "    </tr>\n",
        "    <tr>\n",
        "      <th>4</th>\n",
        "      <td>  4725269.227067</td>\n",
        "      <td>  90</td>\n",
        "      <td> 4.252742e+08</td>\n",
        "    </tr>\n",
        "    <tr>\n",
        "      <th>5</th>\n",
        "      <td>  2372791.046351</td>\n",
        "      <td> 270</td>\n",
        "      <td> 6.406536e+08</td>\n",
        "    </tr>\n",
        "    <tr>\n",
        "      <th>6</th>\n",
        "      <td>  5671341.270490</td>\n",
        "      <td> 244</td>\n",
        "      <td> 1.383807e+09</td>\n",
        "    </tr>\n",
        "  </tbody>\n",
        "</table>\n",
        "</div>"
       ],
       "metadata": {},
       "output_type": "pyout",
       "prompt_number": 27,
       "text": [
        "            weight  minutes  weighted_minutes\n",
        "2  10377056.507734       60      6.226234e+08\n",
        "3   7731257.992805       65      5.025318e+08\n",
        "4   4725269.227067       90      4.252742e+08\n",
        "5   2372791.046351      270      6.406536e+08\n",
        "6   5671341.270490      244      1.383807e+09"
       ]
      }
     ],
     "prompt_number": 27
    },
    {
     "cell_type": "code",
     "collapsed": false,
     "input": [
      "data.weighted_minutes.sum() / data.weight.sum() / 60"
     ],
     "language": "python",
     "metadata": {},
     "outputs": [
      {
       "metadata": {},
       "output_type": "pyout",
       "prompt_number": 28,
       "text": [
        "3.1709004734759403"
       ]
      }
     ],
     "prompt_number": 28
    },
    {
     "cell_type": "code",
     "collapsed": false,
     "input": [
      "#This is a fucntions that combines all three cells above this\n",
      "\n",
      "def average_minutes(data, activity_code):\n",
      "    activity_col = \"t{}\".format(activity_code)\n",
      "    data = data[['TUFINLWGT', activity_col]]#this creates a new DataFrame\n",
      "    data = data.rename(columns={\"TUFINLWGT\": \"weight\", activity_col: \"minutes\"})\n",
      "    data['weighted_minutes'] = data.weight * data.minutes#this adds a new column to the DataFrame\n",
      "    return data.weighted_minutes.sum() / data.weight.sum()"
     ],
     "language": "python",
     "metadata": {},
     "outputs": [],
     "prompt_number": 29
    },
    {
     "cell_type": "code",
     "collapsed": false,
     "input": [
      "sleeping = average_minutes(adults_with_no_children, \"010101\")\n",
      "sleepless = average_minutes(adults_with_no_children, \"010102\")\n",
      "(sleeping + sleepless) / 60"
     ],
     "language": "python",
     "metadata": {},
     "outputs": [
      {
       "metadata": {},
       "output_type": "pyout",
       "prompt_number": 30,
       "text": [
        "8.7508537061809992"
       ]
      }
     ],
     "prompt_number": 30
    },
    {
     "cell_type": "code",
     "collapsed": false,
     "input": [
      "def activity_columns(data, activity_code):\n",
      "    \"\"\"For the activity code given, return all columns that fall under that activity.\"\"\"\n",
      "    col_prefix = \"t{}\".format(activity_code)\n",
      "    return [column for column in data.columns if re.match(col_prefix, column)]"
     ],
     "language": "python",
     "metadata": {},
     "outputs": [],
     "prompt_number": 31
    },
    {
     "cell_type": "code",
     "collapsed": false,
     "input": [
      "activity_columns(summary, \"0101\")"
     ],
     "language": "python",
     "metadata": {},
     "outputs": [
      {
       "metadata": {},
       "output_type": "pyout",
       "prompt_number": 32,
       "text": [
        "['t010101', 't010102']"
       ]
      }
     ],
     "prompt_number": 32
    },
    {
     "cell_type": "code",
     "collapsed": false,
     "input": [
      "def average_minutes2(data, activity_code):\n",
      "    cols = activity_columns(data, activity_code)#see cell above\n",
      "    activity_data = data[cols]#creates a new DataFrame\n",
      "    activity_sums = activity_data.sum(axis=1)#sums the DataFrame on the Columns\n",
      "    data = data[['TUFINLWGT']]\n",
      "    data['minutes'] = activity_sums\n",
      "    data = data.rename(columns={\"TUFINLWGT\": \"weight\"})\n",
      "    data['weighted_minutes'] = data.weight * data.minutes\n",
      "    return data.weighted_minutes.sum() / data.weight.sum()"
     ],
     "language": "python",
     "metadata": {},
     "outputs": [],
     "prompt_number": 33
    },
    {
     "cell_type": "code",
     "collapsed": false,
     "input": [
      "average_minutes2(adults_with_no_children, \"0101\") / 60"
     ],
     "language": "python",
     "metadata": {},
     "outputs": [
      {
       "output_type": "stream",
       "stream": "stderr",
       "text": [
        "-c:6: SettingWithCopyWarning: \n",
        "A value is trying to be set on a copy of a slice from a DataFrame.\n",
        "Try using .loc[row_indexer,col_indexer] = value instead\n",
        "\n",
        "See the the caveats in the documentation: http://pandas.pydata.org/pandas-docs/stable/indexing.html#indexing-view-versus-copy\n"
       ]
      },
      {
       "metadata": {},
       "output_type": "pyout",
       "prompt_number": 34,
       "text": [
        "8.750853706181001"
       ]
      }
     ],
     "prompt_number": 34
    },
    {
     "cell_type": "code",
     "collapsed": false,
     "input": [
      "average_minutes2(adults_with_no_children, \"01\") / 60"
     ],
     "language": "python",
     "metadata": {},
     "outputs": [
      {
       "metadata": {},
       "output_type": "pyout",
       "prompt_number": 35,
       "text": [
        "9.5541911543273592"
       ]
      }
     ],
     "prompt_number": 35
    },
    {
     "cell_type": "heading",
     "level": 1,
     "metadata": {},
     "source": [
      "Average Time spent on Personal Grooming split by Male&Female"
     ]
    },
    {
     "cell_type": "code",
     "collapsed": false,
     "input": [
      "groom_list = []\n",
      "grooming_males = groom_list.append(average_minutes2(summary[male], \"010201\"))\n",
      "grooming_females = groom_list.append(average_minutes2(summary[female], \"010201\"))\n",
      "#groom_list\n",
      "\n",
      "labels = [\"Male\", \"Female\"]\n",
      "groom_list = pd.Series(groom_list, index=labels)\n",
      "groom_list.plot(kind=\"bar\", label = \"Average Grooming Time\", figsize=(10, 5))\n",
      "plt.ylabel(\"Minutes\")\n",
      "plt.show()"
     ],
     "language": "python",
     "metadata": {},
     "outputs": [
      {
       "metadata": {},
       "output_type": "display_data",
       "png": "[encoded data removed]",
       "text": [
        "<matplotlib.figure.Figure at 0x11c590588>"
       ]
      }
     ],
     "prompt_number": 49
    },
    {
     "cell_type": "heading",
     "level": 1,
     "metadata": {},
     "source": [
      "Time Spent Grooming based on # of Kids and Plotted By Age - MALES"
     ]
    },
    {
     "cell_type": "code",
     "collapsed": false,
     "input": [
      "groom_male_nokids = []\n",
      "groom_males_20_no = summary[male & adults_20 & adults_no_kids]\n",
      "groom_males_30_no = summary[male & adults_30 & adults_no_kids]\n",
      "groom_males_40_no = summary[male & adults_40 & adults_no_kids]\n",
      "groom_males_50_no = summary[male & adults_50 & adults_no_kids]\n",
      "groom_males_60_no = summary[male & adults_60 & adults_no_kids]\n",
      "\n",
      "groom_male_onetwo = []\n",
      "groom_males_20_onetwo = summary[male & adults_20 & adults_onetwo_kids]\n",
      "groom_males_30_onetwo = summary[male & adults_30 & adults_onetwo_kids]\n",
      "groom_males_40_onetwo = summary[male & adults_40 & adults_onetwo_kids]\n",
      "groom_males_50_onetwo = summary[male & adults_50 & adults_onetwo_kids]\n",
      "groom_males_60_onetwo = summary[male & adults_60 & adults_onetwo_kids]\n",
      "\n",
      "groom_male_three = []\n",
      "groom_males_20_three = summary[male & adults_20 & adults_threeplus_kids]\n",
      "groom_males_30_three = summary[male & adults_30 & adults_threeplus_kids]\n",
      "groom_males_40_three = summary[male & adults_40 & adults_threeplus_kids]\n",
      "groom_males_50_three = summary[male & adults_50 & adults_threeplus_kids]\n",
      "groom_males_60_three = summary[male & adults_60 & adults_threeplus_kids]\n",
      "\n",
      "groom_male_nokids.append(average_minutes2(groom_males_20_no, \"010201\"))\n",
      "groom_male_nokids.append(average_minutes2(groom_males_30_no, \"010201\"))\n",
      "groom_male_nokids.append(average_minutes2(groom_males_40_no, \"010201\"))\n",
      "groom_male_nokids.append(average_minutes2(groom_males_50_no, \"010201\"))\n",
      "groom_male_nokids.append(average_minutes2(groom_males_60_no, \"010201\"))\n",
      "groom_male_onetwo.append(average_minutes2(groom_males_20_onetwo, \"010201\"))\n",
      "groom_male_onetwo.append(average_minutes2(groom_males_30_onetwo, \"010201\"))\n",
      "groom_male_onetwo.append(average_minutes2(groom_males_40_onetwo, \"010201\"))\n",
      "groom_male_onetwo.append(average_minutes2(groom_males_50_onetwo, \"010201\"))\n",
      "groom_male_onetwo.append(average_minutes2(groom_males_60_onetwo, \"010201\"))\n",
      "groom_male_three.append(average_minutes2(groom_males_20_three, \"010201\"))\n",
      "groom_male_three.append(average_minutes2(groom_males_30_three, \"010201\"))\n",
      "groom_male_three.append(average_minutes2(groom_males_40_three, \"010201\"))\n",
      "groom_male_three.append(average_minutes2(groom_males_50_three, \"010201\"))\n",
      "groom_male_three.append(average_minutes2(groom_males_60_three, \"010201\"))\n",
      "\n",
      "labels = [\"20\",\"30\",\"40\",\"50\",\"60\"]\n",
      "groom_list_nokids = pd.Series(groom_male_nokids, index=labels)\n",
      "groom_list_onetwo = pd.Series(groom_male_onetwo, index=labels)\n",
      "groom_list_three = pd.Series(groom_male_three, index=labels)\n",
      "groom_list_nokids.plot(label = \"No Kids\", figsize=(10, 5))\n",
      "groom_list_onetwo.plot(label = \"One or Two Kids\", figsize=(10, 5))\n",
      "groom_list_three.plot(label = \"Three or More Kids\", figsize=(10, 5))\n",
      "plt.ylabel(\"Minutes\")\n",
      "plt.xlabel(\"Age\")\n",
      "plt.legend()\n",
      "plt.show()"
     ],
     "language": "python",
     "metadata": {},
     "outputs": [
      {
       "metadata": {},
       "output_type": "display_data",
       "png": "[encoded data removed]",
       "text": [
        "<matplotlib.figure.Figure at 0x120957d30>"
       ]
      }
     ],
     "prompt_number": 55
    },
    {
     "cell_type": "heading",
     "level": 1,
     "metadata": {},
     "source": [
      "Time Spent Grooming based on # of Kids and Plotted By Age - FEMALES"
     ]
    },
    {
     "cell_type": "code",
     "collapsed": false,
     "input": [
      "groom_female_no = []\n",
      "groom_females_20_no = summary[female & adults_20 & adults_no_kids]\n",
      "groom_females_30_no = summary[female & adults_30 & adults_no_kids]\n",
      "groom_females_40_no = summary[female & adults_40 & adults_no_kids]\n",
      "groom_females_50_no = summary[female & adults_50 & adults_no_kids]\n",
      "groom_females_60_no = summary[female & adults_60 & adults_no_kids]\n",
      "\n",
      "groom_female_onetwo = []\n",
      "groom_females_20_onetwo = summary[female & adults_20 & adults_onetwo_kids]\n",
      "groom_females_30_onetwo = summary[female & adults_30 & adults_onetwo_kids]\n",
      "groom_females_40_onetwo = summary[female & adults_40 & adults_onetwo_kids]\n",
      "groom_females_50_onetwo = summary[female & adults_50 & adults_onetwo_kids]\n",
      "groom_females_60_onetwo = summary[female & adults_60 & adults_onetwo_kids]\n",
      "\n",
      "groom_female_three = []\n",
      "groom_females_20_three = summary[female & adults_20 & adults_threeplus_kids]\n",
      "groom_females_30_three = summary[female & adults_30 & adults_threeplus_kids]\n",
      "groom_females_40_three = summary[female & adults_40 & adults_threeplus_kids]\n",
      "groom_females_50_three = summary[female & adults_50 & adults_threeplus_kids]\n",
      "groom_females_60_three = summary[female & adults_60 & adults_threeplus_kids]\n",
      "\n",
      "groom_female_no.append(average_minutes2(groom_females_20_no, \"010201\"))\n",
      "groom_female_no.append(average_minutes2(groom_females_30_no, \"010201\"))\n",
      "groom_female_no.append(average_minutes2(groom_females_40_no, \"010201\"))\n",
      "groom_female_no.append(average_minutes2(groom_females_50_no, \"010201\"))\n",
      "groom_female_no.append(average_minutes2(groom_females_60_no, \"010201\"))\n",
      "groom_female_onetwo.append(average_minutes2(groom_females_20_onetwo, \"010201\"))\n",
      "groom_female_onetwo.append(average_minutes2(groom_females_30_onetwo, \"010201\"))\n",
      "groom_female_onetwo.append(average_minutes2(groom_females_40_onetwo, \"010201\"))\n",
      "groom_female_onetwo.append(average_minutes2(groom_females_50_onetwo, \"010201\"))\n",
      "groom_female_onetwo.append(average_minutes2(groom_females_60_onetwo, \"010201\"))\n",
      "groom_female_three.append(average_minutes2(groom_females_20_three, \"010201\"))\n",
      "groom_female_three.append(average_minutes2(groom_females_30_three, \"010201\"))\n",
      "groom_female_three.append(average_minutes2(groom_females_40_three, \"010201\"))\n",
      "groom_female_three.append(average_minutes2(groom_females_50_three, \"010201\"))\n",
      "groom_female_three.append(average_minutes2(groom_females_60_three, \"010201\"))\n",
      "\n",
      "labels = [\"20\",\"30\",\"40\",\"50\",\"60\"]\n",
      "groom_list_no = pd.Series(groom_female_no, index=labels)\n",
      "groom_list_onetwo = pd.Series(groom_female_onetwo, index=labels)\n",
      "groom_list_three = pd.Series(groom_female_three, index=labels)\n",
      "groom_list_no.plot(label = \"No Kids\", figsize=(10, 5))\n",
      "groom_list_onetwo.plot(label = \"One or Two Kids\", figsize=(10, 5))\n",
      "groom_list_three.plot(label = \"Three or More Kids\", figsize=(10, 5))\n",
      "plt.xlabel(\"Age\")\n",
      "plt.ylabel(\"Minutes\")\n",
      "plt.legend()\n",
      "plt.show()"
     ],
     "language": "python",
     "metadata": {},
     "outputs": [
      {
       "metadata": {},
       "output_type": "display_data",
       "png": "[encoded data removed]",
       "text": [
        "<matplotlib.figure.Figure at 0x10d6fb5f8>"
       ]
      }
     ],
     "prompt_number": 56
    },
    {
     "cell_type": "heading",
     "level": 1,
     "metadata": {},
     "source": [
      "Time Spent Reading to the Kids & Helping with Homework - Male vs Female"
     ]
    },
    {
     "cell_type": "code",
     "collapsed": false,
     "input": [
      "study_list = []\n",
      "male_study = summary[male & adults_any_kids & young_kid]\n",
      "female_study = summary[female & adults_any_kids & young_kid]\n",
      "#young_kid is in there to include only the households where the oldest kids is 10 or under\n",
      "\n",
      "study_list.append(average_minutes2(male_study, \"030102\"))\n",
      "study_list.append(average_minutes2(male_study, \"030201\"))\n",
      "study_list.append(average_minutes2(female_study, \"030102\"))\n",
      "study_list.append(average_minutes2(male_study, \"030201\"))\n",
      "\n",
      "labels = [\"Male Read\", \"Male Homework\", \"Female Read\", \"Female Homework\"]\n",
      "study_list_s = pd.Series(study_list, index=labels)\n",
      "study_list_s.plot(kind=\"bar\", title = \"Teaching to the Kids\", figsize=(10, 5))\n",
      "plt.ylabel(\"Minutes\")\n",
      "plt.show()"
     ],
     "language": "python",
     "metadata": {},
     "outputs": [
      {
       "metadata": {},
       "output_type": "display_data",
       "png": "[encoded data removed]",
       "text": [
        "<matplotlib.figure.Figure at 0x10a060b00>"
       ]
      }
     ],
     "prompt_number": 39
    },
    {
     "cell_type": "heading",
     "level": 1,
     "metadata": {},
     "source": [
      "Job Searching & Interviewing Split Across Unemployeed Male/Female\n",
      "Age 20 - 60"
     ]
    },
    {
     "cell_type": "heading",
     "level": 3,
     "metadata": {},
     "source": [
      "A lot of times seems to be spent searching for jobs vs actually interviewing for one"
     ]
    },
    {
     "cell_type": "code",
     "collapsed": false,
     "input": [
      "male_nojob = summary[male & adults_20_60 & unemployed & weekdays]\n",
      "female_nojob = summary[female & adults_20_60 & unemployed & weekdays]\n",
      "\n",
      "#050401 Job Search Activites\n",
      "#050403 Job Interview\n",
      "\n",
      "job_list = []\n",
      "job_list.append(average_minutes2(male_nojob, \"050401\"))\n",
      "job_list.append(average_minutes2(female_nojob, \"050403\"))\n",
      "job_list.append(average_minutes2(female_nojob, \"050401\"))\n",
      "job_list.append(average_minutes2(female_nojob, \"050403\"))\n",
      "\n",
      "labels = [\"Male Job Search\", \"Male Interview\", \"Female Job Search\", \"Female Interview\"]\n",
      "job_list_s = pd.Series(job_list, index=labels)\n",
      "job_list_s.plot(kind=\"bar\", label = \"Teaching to the Kids\", figsize=(10, 5))\n",
      "plt.ylabel(\"Minutes\")\n",
      "plt.show()\n",
      "job_list_s.plot(kind='pie', legend=True, autopct='%.2f', fontsize=20, figsize=(7, 7))\n",
      "plt.show()"
     ],
     "language": "python",
     "metadata": {},
     "outputs": [
      {
       "metadata": {},
       "output_type": "display_data",
       "png": "[encoded data removed]",
       "text": [
        "<matplotlib.figure.Figure at 0x11b056ef0>"
       ]
      },
      {
       "metadata": {},
       "output_type": "display_data",
       "png": "[encoded data removed]",
       "text": [
        "<matplotlib.figure.Figure at 0x11b0669e8>"
       ]
      }
     ],
     "prompt_number": 54
    },
    {
     "cell_type": "heading",
     "level": 1,
     "metadata": {},
     "source": [
      "Eating/Cooking/Cleaning -- Male vs Female during the Week"
     ]
    },
    {
     "cell_type": "code",
     "collapsed": false,
     "input": [
      "male_weekday = summary[male & adults_all & weekdays]\n",
      "female_weekday = summary[female & adults_all & weekdays]\n",
      "\n",
      "eat_cook_clean = []\n",
      "eat_cook_clean.append(average_minutes2(male_weekday, \"1101\"))#eat\n",
      "eat_cook_clean.append(average_minutes2(male_weekday, \"020201\"))#cook\n",
      "eat_cook_clean.append(average_minutes2(male_weekday, \"020203\"))#kitchen cleanup\n",
      "eat_cook_clean.append(average_minutes2(female_weekday, \"1101\"))\n",
      "eat_cook_clean.append(average_minutes2(female_weekday, \"020201\"))\n",
      "eat_cook_clean.append(average_minutes2(female_weekday, \"020203\"))\n",
      "\n",
      "labels = [\"Male Eating\", \"Male Cooking\", \"Male Cleaning\", \"Female Eating\", \"Female Cooking\", \"Female Cleaing\"]\n",
      "eat_list_s = pd.Series(eat_cook_clean, index=labels)\n",
      "eat_list_s.plot(kind=\"bar\", label = \"Time Spent Eating/Cooking/Cleaning during the Week\", figsize=(10, 5))\n",
      "plt.ylabel(\"Minutes\")\n",
      "plt.show()\n"
     ],
     "language": "python",
     "metadata": {},
     "outputs": [
      {
       "metadata": {},
       "output_type": "display_data",
       "png": "[encoded data removed]",
       "text": [
        "<matplotlib.figure.Figure at 0x11b066da0>"
       ]
      }
     ],
     "prompt_number": 76
    },
    {
     "cell_type": "code",
     "collapsed": false,
     "input": [
      "# grouping\n",
      "help(adults_with_no_children.groupby)"
     ],
     "language": "python",
     "metadata": {},
     "outputs": []
    },
    {
     "cell_type": "code",
     "collapsed": false,
     "input": [
      "group = summary.groupby([\"TEAGE\", \"TESEX\", \"TRCHILDNUM\"])"
     ],
     "language": "python",
     "metadata": {},
     "outputs": []
    },
    {
     "cell_type": "code",
     "collapsed": false,
     "input": [
      "group.head()"
     ],
     "language": "python",
     "metadata": {},
     "outputs": []
    },
    {
     "cell_type": "code",
     "collapsed": false,
     "input": [
      "group.mean().xs(15).xs(1)"
     ],
     "language": "python",
     "metadata": {},
     "outputs": []
    },
    {
     "cell_type": "heading",
     "level": 2,
     "metadata": {},
     "source": [
      "Joining files"
     ]
    },
    {
     "cell_type": "code",
     "collapsed": false,
     "input": [
      "respondents = pd.read_csv(\"atusdata/atusresp_2013/atusresp_2013.dat\")\n",
      "activities = pd.read_csv(\"atusdata/atusact_2013/atusact_2013.dat\")"
     ],
     "language": "python",
     "metadata": {},
     "outputs": []
    },
    {
     "cell_type": "code",
     "collapsed": false,
     "input": [
      "respondents.info()"
     ],
     "language": "python",
     "metadata": {},
     "outputs": []
    },
    {
     "cell_type": "code",
     "collapsed": false,
     "input": [
      "activities.info()"
     ],
     "language": "python",
     "metadata": {},
     "outputs": []
    },
    {
     "cell_type": "code",
     "collapsed": false,
     "input": [
      "respondents.head()"
     ],
     "language": "python",
     "metadata": {},
     "outputs": []
    },
    {
     "cell_type": "code",
     "collapsed": false,
     "input": [
      "activities.head()"
     ],
     "language": "python",
     "metadata": {},
     "outputs": []
    },
    {
     "cell_type": "code",
     "collapsed": false,
     "input": [
      "merged = pd.merge(respondents, activities, left_on=\"TUCASEID\", right_on=\"TUCASEID\")\n",
      "merged.info()"
     ],
     "language": "python",
     "metadata": {},
     "outputs": []
    },
    {
     "cell_type": "code",
     "collapsed": false,
     "input": [
      "merged[1:15]"
     ],
     "language": "python",
     "metadata": {},
     "outputs": []
    }
   ],
   "metadata": {}
  }
 ]
}